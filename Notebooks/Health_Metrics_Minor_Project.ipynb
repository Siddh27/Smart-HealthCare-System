{
  "nbformat": 4,
  "nbformat_minor": 0,
  "metadata": {
    "colab": {
      "provenance": []
    },
    "kernelspec": {
      "name": "python3",
      "display_name": "Python 3"
    },
    "language_info": {
      "name": "python"
    }
  },
  "cells": [
    {
      "cell_type": "markdown",
      "source": [
        "Components of Energy expenditure\n",
        "Energy requirements are based on daily\n",
        "energy expenditures. The three major\n",
        "contributors to energy expenditure are:\n",
        "◆ Basal metabolic rate (BMR).\n",
        "◆ Energy for digesting foods.\n",
        "◆ Physical activity"
      ],
      "metadata": {
        "id": "qtjDS6hMGS5J"
      }
    },
    {
      "cell_type": "markdown",
      "source": [
        "Basal Metabolic Rate\n",
        "Basal metabolic rate (BMR) is the amount of energy required to maintain\n",
        "life such as breathing, beating of the heart, and maintaining body\n",
        "temperature. This accounts for the majority (~70%) of the total daily kcals\n",
        "expended"
      ],
      "metadata": {
        "id": "kx1U06MQGcOm"
      }
    },
    {
      "cell_type": "code",
      "execution_count": null,
      "metadata": {
        "id": "36m5JzwUEpjM",
        "colab": {
          "base_uri": "https://localhost:8080/"
        },
        "outputId": "b95b25cc-a69b-48e0-e9bd-ce64a1bdb9c9"
      },
      "outputs": [
        {
          "name": "stdout",
          "output_type": "stream",
          "text": [
            "1\n",
            "20\n",
            "80\n"
          ]
        },
        {
          "output_type": "execute_result",
          "data": {
            "text/plain": [
              "1904.76872"
            ]
          },
          "metadata": {},
          "execution_count": 6
        }
      ],
      "source": [
        "# 1 for male 0 for female\n",
        "male = int(input())\n",
        "age = int(input())\n",
        "# height =float(input()) # in cms\n",
        "weight = float(input()) # in kgs\n",
        "weight*=2.20462\n",
        "\n",
        "if(male==1):\n",
        "  if(age>=18 and age<=30):\n",
        "    BMR = 6.95 * weight + 679\n",
        "  else:\n",
        "    BMR = 5.27 *  weight  + 879\n",
        "else:\n",
        "  if(age>=18 and age<=30):\n",
        "    BMR = 6.68 * weight + 496\n",
        "  else:\n",
        "    BMR =  3.95 * weight+ 829\n",
        "\n",
        "BMR #kcal/day"
      ]
    },
    {
      "cell_type": "markdown",
      "source": [
        "Energy Needs - Total Daily Estimated Energy requirement"
      ],
      "metadata": {
        "id": "iKYxVqpSKP-_"
      }
    },
    {
      "cell_type": "code",
      "source": [
        "activity_factor = float(input())\n",
        "EER = BMR*activity_factor # kcal/day\n",
        "EER"
      ],
      "metadata": {
        "id": "H0JGLm8CJVhl",
        "colab": {
          "base_uri": "https://localhost:8080/"
        },
        "outputId": "97cafce3-3e39-47da-f0f9-9c3cd3b30045"
      },
      "execution_count": null,
      "outputs": [
        {
          "name": "stdout",
          "output_type": "stream",
          "text": [
            "1.2\n"
          ]
        },
        {
          "output_type": "execute_result",
          "data": {
            "text/plain": [
              "2285.722464"
            ]
          },
          "metadata": {},
          "execution_count": 10
        }
      ]
    },
    {
      "cell_type": "markdown",
      "source": [
        "BMI - Body Mass Index"
      ],
      "metadata": {
        "id": "E4l5L8wCKo2u"
      }
    },
    {
      "cell_type": "code",
      "source": [
        "height =float(input()) # in cms\n",
        "height*=0.393701\n",
        "weight = float(input()) # in kgs\n",
        "weight*=2.20462\n",
        "BMI = weight*705/(height**2)\n",
        "BMI"
      ],
      "metadata": {
        "id": "NEq2fgPHKfvW"
      },
      "execution_count": null,
      "outputs": []
    },
    {
      "cell_type": "markdown",
      "source": [
        "Waist to hip ratio"
      ],
      "metadata": {
        "id": "9Ry5Iow3OV87"
      }
    },
    {
      "cell_type": "code",
      "source": [
        "waist_circumference = float(input())#in inches\n",
        "hip_circumference = float(input())#in inches\n",
        "waist_to_hip_ratio = waist_circumference/hip_circumference"
      ],
      "metadata": {
        "id": "BgJf8NOxNb8i"
      },
      "execution_count": null,
      "outputs": []
    },
    {
      "cell_type": "markdown",
      "source": [
        "Carbohydrate Requirements"
      ],
      "metadata": {
        "id": "cx2pV3boF7yX"
      }
    },
    {
      "cell_type": "code",
      "source": [
        "kcal_needed_CHO = EER*0.55 #kcal from CHO per day\n",
        "grams_CHO_needed = kcal_needed_CHO/4 #grams CHO per day"
      ],
      "metadata": {
        "id": "SRxTo68LOrVD"
      },
      "execution_count": null,
      "outputs": []
    },
    {
      "cell_type": "markdown",
      "source": [
        "Activity Level Protein Factor.\n",
        "\n",
        "\n",
        "Low to Moderate 0.5 grams.\n",
        "\n",
        "\n",
        "Endurance Training 0.6 - 0.8 grams.\n",
        "\n",
        "\n",
        "Strength Training 0.6 - 0.8 gram."
      ],
      "metadata": {
        "id": "AtUbwzE7K1IT"
      }
    },
    {
      "cell_type": "code",
      "source": [
        "protein_factor = float(input())\n",
        "body_weight = float(input())\n",
        "grams_of_protein_per_day = weight*protein_factor"
      ],
      "metadata": {
        "id": "FyDlJw4yGNfw"
      },
      "execution_count": null,
      "outputs": []
    },
    {
      "cell_type": "markdown",
      "source": [
        "Maximum fat limit"
      ],
      "metadata": {
        "id": "zARApcdWLhpN"
      }
    },
    {
      "cell_type": "code",
      "source": [
        "fats_per_day = EER*0.30  #kcal/day\n",
        "grams_of_fats_per_day = fats_per_day/9"
      ],
      "metadata": {
        "id": "s28wXMOSLjtG"
      },
      "execution_count": null,
      "outputs": []
    },
    {
      "cell_type": "markdown",
      "source": [
        "Daily Water Requirement"
      ],
      "metadata": {
        "id": "sRLmFjbWM5H7"
      }
    },
    {
      "cell_type": "code",
      "source": [
        "# lets say 1 cup has 8oz water\n",
        "no_of_cups_of_water_per_day  = weight/8"
      ],
      "metadata": {
        "id": "D3VtPPT5Mv4a"
      },
      "execution_count": null,
      "outputs": []
    },
    {
      "cell_type": "markdown",
      "source": [
        "Water Loss Limit\n",
        "always stay above this limit"
      ],
      "metadata": {
        "id": "yeJRs0_UNUHL"
      }
    },
    {
      "cell_type": "code",
      "source": [
        "water_loss_limit = weight*0.98"
      ],
      "metadata": {
        "id": "ud8jH8LANQH6"
      },
      "execution_count": null,
      "outputs": []
    },
    {
      "cell_type": "markdown",
      "source": [
        "Heart Rate Range"
      ],
      "metadata": {
        "id": "pVsN2yTwPD17"
      }
    },
    {
      "cell_type": "code",
      "source": [
        "age_predicted_max_HR = 220 - age # bpm\n",
        "lower_bound_HR = age_predicted_max_HR*0.60\n",
        "upper_bound_HR = age_predicted_max_HR*0.90\n",
        "#target HR Zone is upper_bound to lower bound\n"
      ],
      "metadata": {
        "id": "LwCunjDxPC9j"
      },
      "execution_count": null,
      "outputs": []
    },
    {
      "cell_type": "markdown",
      "source": [
        "CHO for endurance training"
      ],
      "metadata": {
        "id": "LSok5rsnQMI0"
      }
    },
    {
      "cell_type": "code",
      "source": [
        "lower_bound_CHO =EER*0.60 #kcal/day\n",
        "upper_bound_CHO = EER*0.65 #kcal/day"
      ],
      "metadata": {
        "id": "cUjhGpt3Nhb6"
      },
      "execution_count": null,
      "outputs": []
    },
    {
      "cell_type": "markdown",
      "source": [
        "Energy Requirements for a hot environment"
      ],
      "metadata": {
        "id": "hx8w_0v8VXDD"
      }
    },
    {
      "cell_type": "code",
      "source": [
        "EER_hot = EER+0.10*EER"
      ],
      "metadata": {
        "id": "m59F7eHwQZ8f"
      },
      "execution_count": null,
      "outputs": []
    },
    {
      "cell_type": "code",
      "source": [
        "EER_hot #kcal/day"
      ],
      "metadata": {
        "colab": {
          "base_uri": "https://localhost:8080/"
        },
        "id": "lk-OFvSwVfvG",
        "outputId": "c1ea1e4d-a00e-4729-f9d5-a9330dee116e"
      },
      "execution_count": null,
      "outputs": [
        {
          "output_type": "execute_result",
          "data": {
            "text/plain": [
              "2514.2947104"
            ]
          },
          "metadata": {},
          "execution_count": 19
        }
      ]
    },
    {
      "cell_type": "markdown",
      "source": [
        "Energy Requirements for a Cold Requirement"
      ],
      "metadata": {
        "id": "Tkv1Q8tHVj9Z"
      }
    },
    {
      "cell_type": "code",
      "source": [
        "EER_cold  =  EER+0.25*EER #kcal/day"
      ],
      "metadata": {
        "id": "X5uLKhcOVg6i"
      },
      "execution_count": null,
      "outputs": []
    },
    {
      "cell_type": "code",
      "source": [
        "EER_cold"
      ],
      "metadata": {
        "colab": {
          "base_uri": "https://localhost:8080/"
        },
        "id": "nDAEdmfPVqMb",
        "outputId": "56b1850e-b4c4-491e-8922-936c16636bd7"
      },
      "execution_count": null,
      "outputs": [
        {
          "output_type": "execute_result",
          "data": {
            "text/plain": [
              "2857.15308"
            ]
          },
          "metadata": {},
          "execution_count": 18
        }
      ]
    },
    {
      "cell_type": "code",
      "source": [],
      "metadata": {
        "id": "VS7SkeKTVrKv"
      },
      "execution_count": null,
      "outputs": []
    }
  ]
}