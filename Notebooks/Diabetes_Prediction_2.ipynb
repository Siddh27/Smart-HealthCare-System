{
  "nbformat": 4,
  "nbformat_minor": 0,
  "metadata": {
    "colab": {
      "provenance": []
    },
    "kernelspec": {
      "name": "python3",
      "display_name": "Python 3"
    },
    "language_info": {
      "name": "python"
    }
  },
  "cells": [
    {
      "cell_type": "code",
      "execution_count": null,
      "metadata": {
        "id": "GlDmyoPYEJGm"
      },
      "outputs": [],
      "source": [
        "import pandas as pd\n",
        "import numpy as np\n",
        "from sklearn.preprocessing import StandardScaler\n",
        "from sklearn.linear_model import LogisticRegression\n",
        "from sklearn.tree import DecisionTreeClassifier\n",
        "from sklearn.svm import SVC\n",
        "from sklearn.naive_bayes import GaussianNB\n",
        "from sklearn.model_selection import train_test_split\n",
        "from sklearn.metrics import accuracy_score,confusion_matrix\n",
        "from sklearn.metrics import classification_report\n",
        "import matplotlib.pyplot as plt\n",
        "import seaborn as sns"
      ]
    },
    {
      "cell_type": "code",
      "source": [
        "data = pd.read_csv('diabetes.csv')"
      ],
      "metadata": {
        "id": "MyMKtnUmZvUc"
      },
      "execution_count": null,
      "outputs": []
    },
    {
      "cell_type": "code",
      "source": [
        "data.shape"
      ],
      "metadata": {
        "colab": {
          "base_uri": "https://localhost:8080/"
        },
        "id": "loHYLYuaZ_98",
        "outputId": "5a52107c-6a59-4cbd-8cc9-80c39af825f9"
      },
      "execution_count": null,
      "outputs": [
        {
          "output_type": "execute_result",
          "data": {
            "text/plain": [
              "(768, 9)"
            ]
          },
          "metadata": {},
          "execution_count": 3
        }
      ]
    },
    {
      "cell_type": "code",
      "source": [
        "data.describe()"
      ],
      "metadata": {
        "colab": {
          "base_uri": "https://localhost:8080/",
          "height": 320
        },
        "id": "H_ZwylxkaBSp",
        "outputId": "3c7b2419-a8b0-461d-c708-122d6b78bb78"
      },
      "execution_count": null,
      "outputs": [
        {
          "output_type": "execute_result",
          "data": {
            "text/plain": [
              "       Pregnancies     Glucose  BloodPressure  SkinThickness     Insulin  \\\n",
              "count   768.000000  768.000000     768.000000     768.000000  768.000000   \n",
              "mean      3.845052  120.894531      69.105469      20.536458   79.799479   \n",
              "std       3.369578   31.972618      19.355807      15.952218  115.244002   \n",
              "min       0.000000    0.000000       0.000000       0.000000    0.000000   \n",
              "25%       1.000000   99.000000      62.000000       0.000000    0.000000   \n",
              "50%       3.000000  117.000000      72.000000      23.000000   30.500000   \n",
              "75%       6.000000  140.250000      80.000000      32.000000  127.250000   \n",
              "max      17.000000  199.000000     122.000000      99.000000  846.000000   \n",
              "\n",
              "              BMI  DiabetesPedigreeFunction         Age     Outcome  \n",
              "count  768.000000                768.000000  768.000000  768.000000  \n",
              "mean    31.992578                  0.471876   33.240885    0.348958  \n",
              "std      7.884160                  0.331329   11.760232    0.476951  \n",
              "min      0.000000                  0.078000   21.000000    0.000000  \n",
              "25%     27.300000                  0.243750   24.000000    0.000000  \n",
              "50%     32.000000                  0.372500   29.000000    0.000000  \n",
              "75%     36.600000                  0.626250   41.000000    1.000000  \n",
              "max     67.100000                  2.420000   81.000000    1.000000  "
            ],
            "text/html": [
              "\n",
              "  <div id=\"df-9b1e5965-e457-4092-9d7d-f48823fd09e5\" class=\"colab-df-container\">\n",
              "    <div>\n",
              "<style scoped>\n",
              "    .dataframe tbody tr th:only-of-type {\n",
              "        vertical-align: middle;\n",
              "    }\n",
              "\n",
              "    .dataframe tbody tr th {\n",
              "        vertical-align: top;\n",
              "    }\n",
              "\n",
              "    .dataframe thead th {\n",
              "        text-align: right;\n",
              "    }\n",
              "</style>\n",
              "<table border=\"1\" class=\"dataframe\">\n",
              "  <thead>\n",
              "    <tr style=\"text-align: right;\">\n",
              "      <th></th>\n",
              "      <th>Pregnancies</th>\n",
              "      <th>Glucose</th>\n",
              "      <th>BloodPressure</th>\n",
              "      <th>SkinThickness</th>\n",
              "      <th>Insulin</th>\n",
              "      <th>BMI</th>\n",
              "      <th>DiabetesPedigreeFunction</th>\n",
              "      <th>Age</th>\n",
              "      <th>Outcome</th>\n",
              "    </tr>\n",
              "  </thead>\n",
              "  <tbody>\n",
              "    <tr>\n",
              "      <th>count</th>\n",
              "      <td>768.000000</td>\n",
              "      <td>768.000000</td>\n",
              "      <td>768.000000</td>\n",
              "      <td>768.000000</td>\n",
              "      <td>768.000000</td>\n",
              "      <td>768.000000</td>\n",
              "      <td>768.000000</td>\n",
              "      <td>768.000000</td>\n",
              "      <td>768.000000</td>\n",
              "    </tr>\n",
              "    <tr>\n",
              "      <th>mean</th>\n",
              "      <td>3.845052</td>\n",
              "      <td>120.894531</td>\n",
              "      <td>69.105469</td>\n",
              "      <td>20.536458</td>\n",
              "      <td>79.799479</td>\n",
              "      <td>31.992578</td>\n",
              "      <td>0.471876</td>\n",
              "      <td>33.240885</td>\n",
              "      <td>0.348958</td>\n",
              "    </tr>\n",
              "    <tr>\n",
              "      <th>std</th>\n",
              "      <td>3.369578</td>\n",
              "      <td>31.972618</td>\n",
              "      <td>19.355807</td>\n",
              "      <td>15.952218</td>\n",
              "      <td>115.244002</td>\n",
              "      <td>7.884160</td>\n",
              "      <td>0.331329</td>\n",
              "      <td>11.760232</td>\n",
              "      <td>0.476951</td>\n",
              "    </tr>\n",
              "    <tr>\n",
              "      <th>min</th>\n",
              "      <td>0.000000</td>\n",
              "      <td>0.000000</td>\n",
              "      <td>0.000000</td>\n",
              "      <td>0.000000</td>\n",
              "      <td>0.000000</td>\n",
              "      <td>0.000000</td>\n",
              "      <td>0.078000</td>\n",
              "      <td>21.000000</td>\n",
              "      <td>0.000000</td>\n",
              "    </tr>\n",
              "    <tr>\n",
              "      <th>25%</th>\n",
              "      <td>1.000000</td>\n",
              "      <td>99.000000</td>\n",
              "      <td>62.000000</td>\n",
              "      <td>0.000000</td>\n",
              "      <td>0.000000</td>\n",
              "      <td>27.300000</td>\n",
              "      <td>0.243750</td>\n",
              "      <td>24.000000</td>\n",
              "      <td>0.000000</td>\n",
              "    </tr>\n",
              "    <tr>\n",
              "      <th>50%</th>\n",
              "      <td>3.000000</td>\n",
              "      <td>117.000000</td>\n",
              "      <td>72.000000</td>\n",
              "      <td>23.000000</td>\n",
              "      <td>30.500000</td>\n",
              "      <td>32.000000</td>\n",
              "      <td>0.372500</td>\n",
              "      <td>29.000000</td>\n",
              "      <td>0.000000</td>\n",
              "    </tr>\n",
              "    <tr>\n",
              "      <th>75%</th>\n",
              "      <td>6.000000</td>\n",
              "      <td>140.250000</td>\n",
              "      <td>80.000000</td>\n",
              "      <td>32.000000</td>\n",
              "      <td>127.250000</td>\n",
              "      <td>36.600000</td>\n",
              "      <td>0.626250</td>\n",
              "      <td>41.000000</td>\n",
              "      <td>1.000000</td>\n",
              "    </tr>\n",
              "    <tr>\n",
              "      <th>max</th>\n",
              "      <td>17.000000</td>\n",
              "      <td>199.000000</td>\n",
              "      <td>122.000000</td>\n",
              "      <td>99.000000</td>\n",
              "      <td>846.000000</td>\n",
              "      <td>67.100000</td>\n",
              "      <td>2.420000</td>\n",
              "      <td>81.000000</td>\n",
              "      <td>1.000000</td>\n",
              "    </tr>\n",
              "  </tbody>\n",
              "</table>\n",
              "</div>\n",
              "    <div class=\"colab-df-buttons\">\n",
              "\n",
              "  <div class=\"colab-df-container\">\n",
              "    <button class=\"colab-df-convert\" onclick=\"convertToInteractive('df-9b1e5965-e457-4092-9d7d-f48823fd09e5')\"\n",
              "            title=\"Convert this dataframe to an interactive table.\"\n",
              "            style=\"display:none;\">\n",
              "\n",
              "  <svg xmlns=\"http://www.w3.org/2000/svg\" height=\"24px\" viewBox=\"0 -960 960 960\">\n",
              "    <path d=\"M120-120v-720h720v720H120Zm60-500h600v-160H180v160Zm220 220h160v-160H400v160Zm0 220h160v-160H400v160ZM180-400h160v-160H180v160Zm440 0h160v-160H620v160ZM180-180h160v-160H180v160Zm440 0h160v-160H620v160Z\"/>\n",
              "  </svg>\n",
              "    </button>\n",
              "\n",
              "  <style>\n",
              "    .colab-df-container {\n",
              "      display:flex;\n",
              "      gap: 12px;\n",
              "    }\n",
              "\n",
              "    .colab-df-convert {\n",
              "      background-color: #E8F0FE;\n",
              "      border: none;\n",
              "      border-radius: 50%;\n",
              "      cursor: pointer;\n",
              "      display: none;\n",
              "      fill: #1967D2;\n",
              "      height: 32px;\n",
              "      padding: 0 0 0 0;\n",
              "      width: 32px;\n",
              "    }\n",
              "\n",
              "    .colab-df-convert:hover {\n",
              "      background-color: #E2EBFA;\n",
              "      box-shadow: 0px 1px 2px rgba(60, 64, 67, 0.3), 0px 1px 3px 1px rgba(60, 64, 67, 0.15);\n",
              "      fill: #174EA6;\n",
              "    }\n",
              "\n",
              "    .colab-df-buttons div {\n",
              "      margin-bottom: 4px;\n",
              "    }\n",
              "\n",
              "    [theme=dark] .colab-df-convert {\n",
              "      background-color: #3B4455;\n",
              "      fill: #D2E3FC;\n",
              "    }\n",
              "\n",
              "    [theme=dark] .colab-df-convert:hover {\n",
              "      background-color: #434B5C;\n",
              "      box-shadow: 0px 1px 3px 1px rgba(0, 0, 0, 0.15);\n",
              "      filter: drop-shadow(0px 1px 2px rgba(0, 0, 0, 0.3));\n",
              "      fill: #FFFFFF;\n",
              "    }\n",
              "  </style>\n",
              "\n",
              "    <script>\n",
              "      const buttonEl =\n",
              "        document.querySelector('#df-9b1e5965-e457-4092-9d7d-f48823fd09e5 button.colab-df-convert');\n",
              "      buttonEl.style.display =\n",
              "        google.colab.kernel.accessAllowed ? 'block' : 'none';\n",
              "\n",
              "      async function convertToInteractive(key) {\n",
              "        const element = document.querySelector('#df-9b1e5965-e457-4092-9d7d-f48823fd09e5');\n",
              "        const dataTable =\n",
              "          await google.colab.kernel.invokeFunction('convertToInteractive',\n",
              "                                                    [key], {});\n",
              "        if (!dataTable) return;\n",
              "\n",
              "        const docLinkHtml = 'Like what you see? Visit the ' +\n",
              "          '<a target=\"_blank\" href=https://colab.research.google.com/notebooks/data_table.ipynb>data table notebook</a>'\n",
              "          + ' to learn more about interactive tables.';\n",
              "        element.innerHTML = '';\n",
              "        dataTable['output_type'] = 'display_data';\n",
              "        await google.colab.output.renderOutput(dataTable, element);\n",
              "        const docLink = document.createElement('div');\n",
              "        docLink.innerHTML = docLinkHtml;\n",
              "        element.appendChild(docLink);\n",
              "      }\n",
              "    </script>\n",
              "  </div>\n",
              "\n",
              "\n",
              "<div id=\"df-6c88dfe8-e264-4be0-a759-b9a70563168f\">\n",
              "  <button class=\"colab-df-quickchart\" onclick=\"quickchart('df-6c88dfe8-e264-4be0-a759-b9a70563168f')\"\n",
              "            title=\"Suggest charts\"\n",
              "            style=\"display:none;\">\n",
              "\n",
              "<svg xmlns=\"http://www.w3.org/2000/svg\" height=\"24px\"viewBox=\"0 0 24 24\"\n",
              "     width=\"24px\">\n",
              "    <g>\n",
              "        <path d=\"M19 3H5c-1.1 0-2 .9-2 2v14c0 1.1.9 2 2 2h14c1.1 0 2-.9 2-2V5c0-1.1-.9-2-2-2zM9 17H7v-7h2v7zm4 0h-2V7h2v10zm4 0h-2v-4h2v4z\"/>\n",
              "    </g>\n",
              "</svg>\n",
              "  </button>\n",
              "\n",
              "<style>\n",
              "  .colab-df-quickchart {\n",
              "      --bg-color: #E8F0FE;\n",
              "      --fill-color: #1967D2;\n",
              "      --hover-bg-color: #E2EBFA;\n",
              "      --hover-fill-color: #174EA6;\n",
              "      --disabled-fill-color: #AAA;\n",
              "      --disabled-bg-color: #DDD;\n",
              "  }\n",
              "\n",
              "  [theme=dark] .colab-df-quickchart {\n",
              "      --bg-color: #3B4455;\n",
              "      --fill-color: #D2E3FC;\n",
              "      --hover-bg-color: #434B5C;\n",
              "      --hover-fill-color: #FFFFFF;\n",
              "      --disabled-bg-color: #3B4455;\n",
              "      --disabled-fill-color: #666;\n",
              "  }\n",
              "\n",
              "  .colab-df-quickchart {\n",
              "    background-color: var(--bg-color);\n",
              "    border: none;\n",
              "    border-radius: 50%;\n",
              "    cursor: pointer;\n",
              "    display: none;\n",
              "    fill: var(--fill-color);\n",
              "    height: 32px;\n",
              "    padding: 0;\n",
              "    width: 32px;\n",
              "  }\n",
              "\n",
              "  .colab-df-quickchart:hover {\n",
              "    background-color: var(--hover-bg-color);\n",
              "    box-shadow: 0 1px 2px rgba(60, 64, 67, 0.3), 0 1px 3px 1px rgba(60, 64, 67, 0.15);\n",
              "    fill: var(--button-hover-fill-color);\n",
              "  }\n",
              "\n",
              "  .colab-df-quickchart-complete:disabled,\n",
              "  .colab-df-quickchart-complete:disabled:hover {\n",
              "    background-color: var(--disabled-bg-color);\n",
              "    fill: var(--disabled-fill-color);\n",
              "    box-shadow: none;\n",
              "  }\n",
              "\n",
              "  .colab-df-spinner {\n",
              "    border: 2px solid var(--fill-color);\n",
              "    border-color: transparent;\n",
              "    border-bottom-color: var(--fill-color);\n",
              "    animation:\n",
              "      spin 1s steps(1) infinite;\n",
              "  }\n",
              "\n",
              "  @keyframes spin {\n",
              "    0% {\n",
              "      border-color: transparent;\n",
              "      border-bottom-color: var(--fill-color);\n",
              "      border-left-color: var(--fill-color);\n",
              "    }\n",
              "    20% {\n",
              "      border-color: transparent;\n",
              "      border-left-color: var(--fill-color);\n",
              "      border-top-color: var(--fill-color);\n",
              "    }\n",
              "    30% {\n",
              "      border-color: transparent;\n",
              "      border-left-color: var(--fill-color);\n",
              "      border-top-color: var(--fill-color);\n",
              "      border-right-color: var(--fill-color);\n",
              "    }\n",
              "    40% {\n",
              "      border-color: transparent;\n",
              "      border-right-color: var(--fill-color);\n",
              "      border-top-color: var(--fill-color);\n",
              "    }\n",
              "    60% {\n",
              "      border-color: transparent;\n",
              "      border-right-color: var(--fill-color);\n",
              "    }\n",
              "    80% {\n",
              "      border-color: transparent;\n",
              "      border-right-color: var(--fill-color);\n",
              "      border-bottom-color: var(--fill-color);\n",
              "    }\n",
              "    90% {\n",
              "      border-color: transparent;\n",
              "      border-bottom-color: var(--fill-color);\n",
              "    }\n",
              "  }\n",
              "</style>\n",
              "\n",
              "  <script>\n",
              "    async function quickchart(key) {\n",
              "      const quickchartButtonEl =\n",
              "        document.querySelector('#' + key + ' button');\n",
              "      quickchartButtonEl.disabled = true;  // To prevent multiple clicks.\n",
              "      quickchartButtonEl.classList.add('colab-df-spinner');\n",
              "      try {\n",
              "        const charts = await google.colab.kernel.invokeFunction(\n",
              "            'suggestCharts', [key], {});\n",
              "      } catch (error) {\n",
              "        console.error('Error during call to suggestCharts:', error);\n",
              "      }\n",
              "      quickchartButtonEl.classList.remove('colab-df-spinner');\n",
              "      quickchartButtonEl.classList.add('colab-df-quickchart-complete');\n",
              "    }\n",
              "    (() => {\n",
              "      let quickchartButtonEl =\n",
              "        document.querySelector('#df-6c88dfe8-e264-4be0-a759-b9a70563168f button');\n",
              "      quickchartButtonEl.style.display =\n",
              "        google.colab.kernel.accessAllowed ? 'block' : 'none';\n",
              "    })();\n",
              "  </script>\n",
              "</div>\n",
              "\n",
              "    </div>\n",
              "  </div>\n"
            ],
            "application/vnd.google.colaboratory.intrinsic+json": {
              "type": "dataframe",
              "summary": "{\n  \"name\": \"data\",\n  \"rows\": 8,\n  \"fields\": [\n    {\n      \"column\": \"Pregnancies\",\n      \"properties\": {\n        \"dtype\": \"number\",\n        \"std\": 269.85223453356366,\n        \"min\": 0.0,\n        \"max\": 768.0,\n        \"num_unique_values\": 8,\n        \"samples\": [\n          3.8450520833333335,\n          3.0,\n          768.0\n        ],\n        \"semantic_type\": \"\",\n        \"description\": \"\"\n      }\n    },\n    {\n      \"column\": \"Glucose\",\n      \"properties\": {\n        \"dtype\": \"number\",\n        \"std\": 243.73802348295857,\n        \"min\": 0.0,\n        \"max\": 768.0,\n        \"num_unique_values\": 8,\n        \"samples\": [\n          120.89453125,\n          117.0,\n          768.0\n        ],\n        \"semantic_type\": \"\",\n        \"description\": \"\"\n      }\n    },\n    {\n      \"column\": \"BloodPressure\",\n      \"properties\": {\n        \"dtype\": \"number\",\n        \"std\": 252.8525053581062,\n        \"min\": 0.0,\n        \"max\": 768.0,\n        \"num_unique_values\": 8,\n        \"samples\": [\n          69.10546875,\n          72.0,\n          768.0\n        ],\n        \"semantic_type\": \"\",\n        \"description\": \"\"\n      }\n    },\n    {\n      \"column\": \"SkinThickness\",\n      \"properties\": {\n        \"dtype\": \"number\",\n        \"std\": 263.7684730531098,\n        \"min\": 0.0,\n        \"max\": 768.0,\n        \"num_unique_values\": 7,\n        \"samples\": [\n          768.0,\n          20.536458333333332,\n          32.0\n        ],\n        \"semantic_type\": \"\",\n        \"description\": \"\"\n      }\n    },\n    {\n      \"column\": \"Insulin\",\n      \"properties\": {\n        \"dtype\": \"number\",\n        \"std\": 350.26059167945886,\n        \"min\": 0.0,\n        \"max\": 846.0,\n        \"num_unique_values\": 7,\n        \"samples\": [\n          768.0,\n          79.79947916666667,\n          127.25\n        ],\n        \"semantic_type\": \"\",\n        \"description\": \"\"\n      }\n    },\n    {\n      \"column\": \"BMI\",\n      \"properties\": {\n        \"dtype\": \"number\",\n        \"std\": 262.05117817552093,\n        \"min\": 0.0,\n        \"max\": 768.0,\n        \"num_unique_values\": 8,\n        \"samples\": [\n          31.992578124999998,\n          32.0,\n          768.0\n        ],\n        \"semantic_type\": \"\",\n        \"description\": \"\"\n      }\n    },\n    {\n      \"column\": \"DiabetesPedigreeFunction\",\n      \"properties\": {\n        \"dtype\": \"number\",\n        \"std\": 271.3005221658502,\n        \"min\": 0.078,\n        \"max\": 768.0,\n        \"num_unique_values\": 8,\n        \"samples\": [\n          0.47187630208333325,\n          0.3725,\n          768.0\n        ],\n        \"semantic_type\": \"\",\n        \"description\": \"\"\n      }\n    },\n    {\n      \"column\": \"Age\",\n      \"properties\": {\n        \"dtype\": \"number\",\n        \"std\": 260.1941178528413,\n        \"min\": 11.760231540678685,\n        \"max\": 768.0,\n        \"num_unique_values\": 8,\n        \"samples\": [\n          33.240885416666664,\n          29.0,\n          768.0\n        ],\n        \"semantic_type\": \"\",\n        \"description\": \"\"\n      }\n    },\n    {\n      \"column\": \"Outcome\",\n      \"properties\": {\n        \"dtype\": \"number\",\n        \"std\": 271.3865920388932,\n        \"min\": 0.0,\n        \"max\": 768.0,\n        \"num_unique_values\": 5,\n        \"samples\": [\n          0.3489583333333333,\n          1.0,\n          0.47695137724279896\n        ],\n        \"semantic_type\": \"\",\n        \"description\": \"\"\n      }\n    }\n  ]\n}"
            }
          },
          "metadata": {},
          "execution_count": 4
        }
      ]
    },
    {
      "cell_type": "code",
      "source": [
        "#here few misconception is there lke BMI can not be zero, BP can't be zero, glucose, insuline can't be zero so lets try to fix it\n",
        "# now replacing zero values with the mean of the column\n",
        "data['BMI'] = data['BMI'].replace(0,data['BMI'].mean())\n",
        "data['BloodPressure'] = data['BloodPressure'].replace(0,data['BloodPressure'].mean())\n",
        "data['Glucose'] = data['Glucose'].replace(0,data['Glucose'].mean())\n",
        "data['Insulin'] = data['Insulin'].replace(0,data['Insulin'].median())\n",
        "data['SkinThickness'] = data['SkinThickness'].replace(0,data['SkinThickness'].mean())\n"
      ],
      "metadata": {
        "id": "zARcP7bAaxN-"
      },
      "execution_count": null,
      "outputs": []
    },
    {
      "cell_type": "code",
      "source": [
        "data.describe()"
      ],
      "metadata": {
        "colab": {
          "base_uri": "https://localhost:8080/",
          "height": 320
        },
        "id": "4ZULhWhEbORk",
        "outputId": "447cb3f5-e419-4954-a896-950be05279b1"
      },
      "execution_count": null,
      "outputs": [
        {
          "output_type": "execute_result",
          "data": {
            "text/plain": [
              "       Pregnancies     Glucose  BloodPressure  SkinThickness     Insulin  \\\n",
              "count   768.000000  768.000000     768.000000     768.000000  768.000000   \n",
              "mean      3.845052  121.681605      72.254807      26.606479   94.652344   \n",
              "std       3.369578   30.436016      12.115932       9.631241  105.547598   \n",
              "min       0.000000   44.000000      24.000000       7.000000   14.000000   \n",
              "25%       1.000000   99.750000      64.000000      20.536458   30.500000   \n",
              "50%       3.000000  117.000000      72.000000      23.000000   31.250000   \n",
              "75%       6.000000  140.250000      80.000000      32.000000  127.250000   \n",
              "max      17.000000  199.000000     122.000000      99.000000  846.000000   \n",
              "\n",
              "              BMI  DiabetesPedigreeFunction         Age     Outcome  \n",
              "count  768.000000                768.000000  768.000000  768.000000  \n",
              "mean    32.450805                  0.471876   33.240885    0.348958  \n",
              "std      6.875374                  0.331329   11.760232    0.476951  \n",
              "min     18.200000                  0.078000   21.000000    0.000000  \n",
              "25%     27.500000                  0.243750   24.000000    0.000000  \n",
              "50%     32.000000                  0.372500   29.000000    0.000000  \n",
              "75%     36.600000                  0.626250   41.000000    1.000000  \n",
              "max     67.100000                  2.420000   81.000000    1.000000  "
            ],
            "text/html": [
              "\n",
              "  <div id=\"df-32236c62-5e71-4a85-a4da-5004222d61c6\" class=\"colab-df-container\">\n",
              "    <div>\n",
              "<style scoped>\n",
              "    .dataframe tbody tr th:only-of-type {\n",
              "        vertical-align: middle;\n",
              "    }\n",
              "\n",
              "    .dataframe tbody tr th {\n",
              "        vertical-align: top;\n",
              "    }\n",
              "\n",
              "    .dataframe thead th {\n",
              "        text-align: right;\n",
              "    }\n",
              "</style>\n",
              "<table border=\"1\" class=\"dataframe\">\n",
              "  <thead>\n",
              "    <tr style=\"text-align: right;\">\n",
              "      <th></th>\n",
              "      <th>Pregnancies</th>\n",
              "      <th>Glucose</th>\n",
              "      <th>BloodPressure</th>\n",
              "      <th>SkinThickness</th>\n",
              "      <th>Insulin</th>\n",
              "      <th>BMI</th>\n",
              "      <th>DiabetesPedigreeFunction</th>\n",
              "      <th>Age</th>\n",
              "      <th>Outcome</th>\n",
              "    </tr>\n",
              "  </thead>\n",
              "  <tbody>\n",
              "    <tr>\n",
              "      <th>count</th>\n",
              "      <td>768.000000</td>\n",
              "      <td>768.000000</td>\n",
              "      <td>768.000000</td>\n",
              "      <td>768.000000</td>\n",
              "      <td>768.000000</td>\n",
              "      <td>768.000000</td>\n",
              "      <td>768.000000</td>\n",
              "      <td>768.000000</td>\n",
              "      <td>768.000000</td>\n",
              "    </tr>\n",
              "    <tr>\n",
              "      <th>mean</th>\n",
              "      <td>3.845052</td>\n",
              "      <td>121.681605</td>\n",
              "      <td>72.254807</td>\n",
              "      <td>26.606479</td>\n",
              "      <td>94.652344</td>\n",
              "      <td>32.450805</td>\n",
              "      <td>0.471876</td>\n",
              "      <td>33.240885</td>\n",
              "      <td>0.348958</td>\n",
              "    </tr>\n",
              "    <tr>\n",
              "      <th>std</th>\n",
              "      <td>3.369578</td>\n",
              "      <td>30.436016</td>\n",
              "      <td>12.115932</td>\n",
              "      <td>9.631241</td>\n",
              "      <td>105.547598</td>\n",
              "      <td>6.875374</td>\n",
              "      <td>0.331329</td>\n",
              "      <td>11.760232</td>\n",
              "      <td>0.476951</td>\n",
              "    </tr>\n",
              "    <tr>\n",
              "      <th>min</th>\n",
              "      <td>0.000000</td>\n",
              "      <td>44.000000</td>\n",
              "      <td>24.000000</td>\n",
              "      <td>7.000000</td>\n",
              "      <td>14.000000</td>\n",
              "      <td>18.200000</td>\n",
              "      <td>0.078000</td>\n",
              "      <td>21.000000</td>\n",
              "      <td>0.000000</td>\n",
              "    </tr>\n",
              "    <tr>\n",
              "      <th>25%</th>\n",
              "      <td>1.000000</td>\n",
              "      <td>99.750000</td>\n",
              "      <td>64.000000</td>\n",
              "      <td>20.536458</td>\n",
              "      <td>30.500000</td>\n",
              "      <td>27.500000</td>\n",
              "      <td>0.243750</td>\n",
              "      <td>24.000000</td>\n",
              "      <td>0.000000</td>\n",
              "    </tr>\n",
              "    <tr>\n",
              "      <th>50%</th>\n",
              "      <td>3.000000</td>\n",
              "      <td>117.000000</td>\n",
              "      <td>72.000000</td>\n",
              "      <td>23.000000</td>\n",
              "      <td>31.250000</td>\n",
              "      <td>32.000000</td>\n",
              "      <td>0.372500</td>\n",
              "      <td>29.000000</td>\n",
              "      <td>0.000000</td>\n",
              "    </tr>\n",
              "    <tr>\n",
              "      <th>75%</th>\n",
              "      <td>6.000000</td>\n",
              "      <td>140.250000</td>\n",
              "      <td>80.000000</td>\n",
              "      <td>32.000000</td>\n",
              "      <td>127.250000</td>\n",
              "      <td>36.600000</td>\n",
              "      <td>0.626250</td>\n",
              "      <td>41.000000</td>\n",
              "      <td>1.000000</td>\n",
              "    </tr>\n",
              "    <tr>\n",
              "      <th>max</th>\n",
              "      <td>17.000000</td>\n",
              "      <td>199.000000</td>\n",
              "      <td>122.000000</td>\n",
              "      <td>99.000000</td>\n",
              "      <td>846.000000</td>\n",
              "      <td>67.100000</td>\n",
              "      <td>2.420000</td>\n",
              "      <td>81.000000</td>\n",
              "      <td>1.000000</td>\n",
              "    </tr>\n",
              "  </tbody>\n",
              "</table>\n",
              "</div>\n",
              "    <div class=\"colab-df-buttons\">\n",
              "\n",
              "  <div class=\"colab-df-container\">\n",
              "    <button class=\"colab-df-convert\" onclick=\"convertToInteractive('df-32236c62-5e71-4a85-a4da-5004222d61c6')\"\n",
              "            title=\"Convert this dataframe to an interactive table.\"\n",
              "            style=\"display:none;\">\n",
              "\n",
              "  <svg xmlns=\"http://www.w3.org/2000/svg\" height=\"24px\" viewBox=\"0 -960 960 960\">\n",
              "    <path d=\"M120-120v-720h720v720H120Zm60-500h600v-160H180v160Zm220 220h160v-160H400v160Zm0 220h160v-160H400v160ZM180-400h160v-160H180v160Zm440 0h160v-160H620v160ZM180-180h160v-160H180v160Zm440 0h160v-160H620v160Z\"/>\n",
              "  </svg>\n",
              "    </button>\n",
              "\n",
              "  <style>\n",
              "    .colab-df-container {\n",
              "      display:flex;\n",
              "      gap: 12px;\n",
              "    }\n",
              "\n",
              "    .colab-df-convert {\n",
              "      background-color: #E8F0FE;\n",
              "      border: none;\n",
              "      border-radius: 50%;\n",
              "      cursor: pointer;\n",
              "      display: none;\n",
              "      fill: #1967D2;\n",
              "      height: 32px;\n",
              "      padding: 0 0 0 0;\n",
              "      width: 32px;\n",
              "    }\n",
              "\n",
              "    .colab-df-convert:hover {\n",
              "      background-color: #E2EBFA;\n",
              "      box-shadow: 0px 1px 2px rgba(60, 64, 67, 0.3), 0px 1px 3px 1px rgba(60, 64, 67, 0.15);\n",
              "      fill: #174EA6;\n",
              "    }\n",
              "\n",
              "    .colab-df-buttons div {\n",
              "      margin-bottom: 4px;\n",
              "    }\n",
              "\n",
              "    [theme=dark] .colab-df-convert {\n",
              "      background-color: #3B4455;\n",
              "      fill: #D2E3FC;\n",
              "    }\n",
              "\n",
              "    [theme=dark] .colab-df-convert:hover {\n",
              "      background-color: #434B5C;\n",
              "      box-shadow: 0px 1px 3px 1px rgba(0, 0, 0, 0.15);\n",
              "      filter: drop-shadow(0px 1px 2px rgba(0, 0, 0, 0.3));\n",
              "      fill: #FFFFFF;\n",
              "    }\n",
              "  </style>\n",
              "\n",
              "    <script>\n",
              "      const buttonEl =\n",
              "        document.querySelector('#df-32236c62-5e71-4a85-a4da-5004222d61c6 button.colab-df-convert');\n",
              "      buttonEl.style.display =\n",
              "        google.colab.kernel.accessAllowed ? 'block' : 'none';\n",
              "\n",
              "      async function convertToInteractive(key) {\n",
              "        const element = document.querySelector('#df-32236c62-5e71-4a85-a4da-5004222d61c6');\n",
              "        const dataTable =\n",
              "          await google.colab.kernel.invokeFunction('convertToInteractive',\n",
              "                                                    [key], {});\n",
              "        if (!dataTable) return;\n",
              "\n",
              "        const docLinkHtml = 'Like what you see? Visit the ' +\n",
              "          '<a target=\"_blank\" href=https://colab.research.google.com/notebooks/data_table.ipynb>data table notebook</a>'\n",
              "          + ' to learn more about interactive tables.';\n",
              "        element.innerHTML = '';\n",
              "        dataTable['output_type'] = 'display_data';\n",
              "        await google.colab.output.renderOutput(dataTable, element);\n",
              "        const docLink = document.createElement('div');\n",
              "        docLink.innerHTML = docLinkHtml;\n",
              "        element.appendChild(docLink);\n",
              "      }\n",
              "    </script>\n",
              "  </div>\n",
              "\n",
              "\n",
              "<div id=\"df-10d85d35-9bc2-4e8d-894d-a20a087962f5\">\n",
              "  <button class=\"colab-df-quickchart\" onclick=\"quickchart('df-10d85d35-9bc2-4e8d-894d-a20a087962f5')\"\n",
              "            title=\"Suggest charts\"\n",
              "            style=\"display:none;\">\n",
              "\n",
              "<svg xmlns=\"http://www.w3.org/2000/svg\" height=\"24px\"viewBox=\"0 0 24 24\"\n",
              "     width=\"24px\">\n",
              "    <g>\n",
              "        <path d=\"M19 3H5c-1.1 0-2 .9-2 2v14c0 1.1.9 2 2 2h14c1.1 0 2-.9 2-2V5c0-1.1-.9-2-2-2zM9 17H7v-7h2v7zm4 0h-2V7h2v10zm4 0h-2v-4h2v4z\"/>\n",
              "    </g>\n",
              "</svg>\n",
              "  </button>\n",
              "\n",
              "<style>\n",
              "  .colab-df-quickchart {\n",
              "      --bg-color: #E8F0FE;\n",
              "      --fill-color: #1967D2;\n",
              "      --hover-bg-color: #E2EBFA;\n",
              "      --hover-fill-color: #174EA6;\n",
              "      --disabled-fill-color: #AAA;\n",
              "      --disabled-bg-color: #DDD;\n",
              "  }\n",
              "\n",
              "  [theme=dark] .colab-df-quickchart {\n",
              "      --bg-color: #3B4455;\n",
              "      --fill-color: #D2E3FC;\n",
              "      --hover-bg-color: #434B5C;\n",
              "      --hover-fill-color: #FFFFFF;\n",
              "      --disabled-bg-color: #3B4455;\n",
              "      --disabled-fill-color: #666;\n",
              "  }\n",
              "\n",
              "  .colab-df-quickchart {\n",
              "    background-color: var(--bg-color);\n",
              "    border: none;\n",
              "    border-radius: 50%;\n",
              "    cursor: pointer;\n",
              "    display: none;\n",
              "    fill: var(--fill-color);\n",
              "    height: 32px;\n",
              "    padding: 0;\n",
              "    width: 32px;\n",
              "  }\n",
              "\n",
              "  .colab-df-quickchart:hover {\n",
              "    background-color: var(--hover-bg-color);\n",
              "    box-shadow: 0 1px 2px rgba(60, 64, 67, 0.3), 0 1px 3px 1px rgba(60, 64, 67, 0.15);\n",
              "    fill: var(--button-hover-fill-color);\n",
              "  }\n",
              "\n",
              "  .colab-df-quickchart-complete:disabled,\n",
              "  .colab-df-quickchart-complete:disabled:hover {\n",
              "    background-color: var(--disabled-bg-color);\n",
              "    fill: var(--disabled-fill-color);\n",
              "    box-shadow: none;\n",
              "  }\n",
              "\n",
              "  .colab-df-spinner {\n",
              "    border: 2px solid var(--fill-color);\n",
              "    border-color: transparent;\n",
              "    border-bottom-color: var(--fill-color);\n",
              "    animation:\n",
              "      spin 1s steps(1) infinite;\n",
              "  }\n",
              "\n",
              "  @keyframes spin {\n",
              "    0% {\n",
              "      border-color: transparent;\n",
              "      border-bottom-color: var(--fill-color);\n",
              "      border-left-color: var(--fill-color);\n",
              "    }\n",
              "    20% {\n",
              "      border-color: transparent;\n",
              "      border-left-color: var(--fill-color);\n",
              "      border-top-color: var(--fill-color);\n",
              "    }\n",
              "    30% {\n",
              "      border-color: transparent;\n",
              "      border-left-color: var(--fill-color);\n",
              "      border-top-color: var(--fill-color);\n",
              "      border-right-color: var(--fill-color);\n",
              "    }\n",
              "    40% {\n",
              "      border-color: transparent;\n",
              "      border-right-color: var(--fill-color);\n",
              "      border-top-color: var(--fill-color);\n",
              "    }\n",
              "    60% {\n",
              "      border-color: transparent;\n",
              "      border-right-color: var(--fill-color);\n",
              "    }\n",
              "    80% {\n",
              "      border-color: transparent;\n",
              "      border-right-color: var(--fill-color);\n",
              "      border-bottom-color: var(--fill-color);\n",
              "    }\n",
              "    90% {\n",
              "      border-color: transparent;\n",
              "      border-bottom-color: var(--fill-color);\n",
              "    }\n",
              "  }\n",
              "</style>\n",
              "\n",
              "  <script>\n",
              "    async function quickchart(key) {\n",
              "      const quickchartButtonEl =\n",
              "        document.querySelector('#' + key + ' button');\n",
              "      quickchartButtonEl.disabled = true;  // To prevent multiple clicks.\n",
              "      quickchartButtonEl.classList.add('colab-df-spinner');\n",
              "      try {\n",
              "        const charts = await google.colab.kernel.invokeFunction(\n",
              "            'suggestCharts', [key], {});\n",
              "      } catch (error) {\n",
              "        console.error('Error during call to suggestCharts:', error);\n",
              "      }\n",
              "      quickchartButtonEl.classList.remove('colab-df-spinner');\n",
              "      quickchartButtonEl.classList.add('colab-df-quickchart-complete');\n",
              "    }\n",
              "    (() => {\n",
              "      let quickchartButtonEl =\n",
              "        document.querySelector('#df-10d85d35-9bc2-4e8d-894d-a20a087962f5 button');\n",
              "      quickchartButtonEl.style.display =\n",
              "        google.colab.kernel.accessAllowed ? 'block' : 'none';\n",
              "    })();\n",
              "  </script>\n",
              "</div>\n",
              "\n",
              "    </div>\n",
              "  </div>\n"
            ],
            "application/vnd.google.colaboratory.intrinsic+json": {
              "type": "dataframe",
              "summary": "{\n  \"name\": \"data\",\n  \"rows\": 8,\n  \"fields\": [\n    {\n      \"column\": \"Pregnancies\",\n      \"properties\": {\n        \"dtype\": \"number\",\n        \"std\": 269.85223453356366,\n        \"min\": 0.0,\n        \"max\": 768.0,\n        \"num_unique_values\": 8,\n        \"samples\": [\n          3.8450520833333335,\n          3.0,\n          768.0\n        ],\n        \"semantic_type\": \"\",\n        \"description\": \"\"\n      }\n    },\n    {\n      \"column\": \"Glucose\",\n      \"properties\": {\n        \"dtype\": \"number\",\n        \"std\": 239.510868070369,\n        \"min\": 30.436015643897115,\n        \"max\": 768.0,\n        \"num_unique_values\": 8,\n        \"samples\": [\n          121.68160502115886,\n          117.0,\n          768.0\n        ],\n        \"semantic_type\": \"\",\n        \"description\": \"\"\n      }\n    },\n    {\n      \"column\": \"BloodPressure\",\n      \"properties\": {\n        \"dtype\": \"number\",\n        \"std\": 251.28086638098014,\n        \"min\": 12.115931598253855,\n        \"max\": 768.0,\n        \"num_unique_values\": 8,\n        \"samples\": [\n          72.25480651855469,\n          72.0,\n          768.0\n        ],\n        \"semantic_type\": \"\",\n        \"description\": \"\"\n      }\n    },\n    {\n      \"column\": \"SkinThickness\",\n      \"properties\": {\n        \"dtype\": \"number\",\n        \"std\": 262.12880430873116,\n        \"min\": 7.0,\n        \"max\": 768.0,\n        \"num_unique_values\": 8,\n        \"samples\": [\n          26.606479220920136,\n          23.0,\n          768.0\n        ],\n        \"semantic_type\": \"\",\n        \"description\": \"\"\n      }\n    },\n    {\n      \"column\": \"Insulin\",\n      \"properties\": {\n        \"dtype\": \"number\",\n        \"std\": 345.43922059327565,\n        \"min\": 14.0,\n        \"max\": 846.0,\n        \"num_unique_values\": 8,\n        \"samples\": [\n          94.65234375,\n          31.25,\n          768.0\n        ],\n        \"semantic_type\": \"\",\n        \"description\": \"\"\n      }\n    },\n    {\n      \"column\": \"BMI\",\n      \"properties\": {\n        \"dtype\": \"number\",\n        \"std\": 260.9543894108279,\n        \"min\": 6.8753735074183835,\n        \"max\": 768.0,\n        \"num_unique_values\": 8,\n        \"samples\": [\n          32.4508051554362,\n          32.0,\n          768.0\n        ],\n        \"semantic_type\": \"\",\n        \"description\": \"\"\n      }\n    },\n    {\n      \"column\": \"DiabetesPedigreeFunction\",\n      \"properties\": {\n        \"dtype\": \"number\",\n        \"std\": 271.3005221658502,\n        \"min\": 0.078,\n        \"max\": 768.0,\n        \"num_unique_values\": 8,\n        \"samples\": [\n          0.47187630208333325,\n          0.3725,\n          768.0\n        ],\n        \"semantic_type\": \"\",\n        \"description\": \"\"\n      }\n    },\n    {\n      \"column\": \"Age\",\n      \"properties\": {\n        \"dtype\": \"number\",\n        \"std\": 260.1941178528413,\n        \"min\": 11.760231540678685,\n        \"max\": 768.0,\n        \"num_unique_values\": 8,\n        \"samples\": [\n          33.240885416666664,\n          29.0,\n          768.0\n        ],\n        \"semantic_type\": \"\",\n        \"description\": \"\"\n      }\n    },\n    {\n      \"column\": \"Outcome\",\n      \"properties\": {\n        \"dtype\": \"number\",\n        \"std\": 271.3865920388932,\n        \"min\": 0.0,\n        \"max\": 768.0,\n        \"num_unique_values\": 5,\n        \"samples\": [\n          0.3489583333333333,\n          1.0,\n          0.47695137724279896\n        ],\n        \"semantic_type\": \"\",\n        \"description\": \"\"\n      }\n    }\n  ]\n}"
            }
          },
          "metadata": {},
          "execution_count": 6
        }
      ]
    },
    {
      "cell_type": "code",
      "source": [
        "fig,ax  = plt.subplots(figsize=(15,10))\n",
        "sns.boxplot(data=data,width=0.5,fliersize=3)"
      ],
      "metadata": {
        "colab": {
          "base_uri": "https://localhost:8080/",
          "height": 461
        },
        "id": "kbNT1Z4obQw7",
        "outputId": "0a84c2d3-48be-47d2-ad88-f21fc44cc48c"
      },
      "execution_count": null,
      "outputs": [
        {
          "output_type": "execute_result",
          "data": {
            "text/plain": [
              "<Axes: >"
            ]
          },
          "metadata": {},
          "execution_count": 7
        },
        {
          "output_type": "display_data",
          "data": {
            "text/plain": [
              "<Figure size 1500x1000 with 1 Axes>"
            ],
            "image/png": "[encoded data removed]"
          },
          "metadata": {}
        }
      ]
    },
    {
      "cell_type": "markdown",
      "source": [
        "Seperating Dependant and Dependant Variables"
      ],
      "metadata": {
        "id": "0iv_IT5xb5cu"
      }
    },
    {
      "cell_type": "code",
      "source": [
        "X = data.drop(columns=['Outcome'])\n",
        "y = data['Outcome']"
      ],
      "metadata": {
        "id": "twdyllNIbmT_"
      },
      "execution_count": null,
      "outputs": []
    },
    {
      "cell_type": "markdown",
      "source": [
        "Sepearate Data in train and test"
      ],
      "metadata": {
        "id": "-VW2f808cCt5"
      }
    },
    {
      "cell_type": "code",
      "source": [
        "X_train,X_test,y_train,y_test = train_test_split(X,y,test_size=0.25,random_state=0)\n",
        "X_train.shape,X_test.shape"
      ],
      "metadata": {
        "colab": {
          "base_uri": "https://localhost:8080/"
        },
        "id": "yplqzIGXcAxA",
        "outputId": "c0212a23-ed05-47b1-a475-ba3a52c8f010"
      },
      "execution_count": null,
      "outputs": [
        {
          "output_type": "execute_result",
          "data": {
            "text/plain": [
              "((576, 8), (192, 8))"
            ]
          },
          "metadata": {},
          "execution_count": 9
        }
      ]
    },
    {
      "cell_type": "markdown",
      "source": [
        "Scaling the dataset"
      ],
      "metadata": {
        "id": "KVqUkPPvcSqO"
      }
    },
    {
      "cell_type": "code",
      "source": [
        "scaler = StandardScaler()\n",
        "X_train_scaled = scaler.fit_transform(X_train)\n",
        "X_test_scaled = scaler.transform(X_test)"
      ],
      "metadata": {
        "id": "oSlmezvNcPun"
      },
      "execution_count": null,
      "outputs": []
    },
    {
      "cell_type": "code",
      "source": [
        "X_train_scaled"
      ],
      "metadata": {
        "colab": {
          "base_uri": "https://localhost:8080/"
        },
        "id": "Erf4dL9TckdG",
        "outputId": "2f19bfdf-0e05-4bd7-e4b1-094cc808735f"
      },
      "execution_count": null,
      "outputs": [
        {
          "output_type": "execute_result",
          "data": {
            "text/plain": [
              "array([[ 1.50755225, -1.09947934, -0.89942504, ..., -1.45561965,\n",
              "        -0.98325882, -0.04863985],\n",
              "       [-0.82986389, -0.1331471 , -1.23618124, ...,  0.09272955,\n",
              "        -0.62493647, -0.88246592],\n",
              "       [-1.12204091, -1.03283573,  0.61597784, ..., -0.03629955,\n",
              "         0.39884168, -0.5489355 ],\n",
              "       ...,\n",
              "       [ 0.04666716, -0.93287033, -0.64685789, ..., -1.14021518,\n",
              "        -0.96519215, -1.04923114],\n",
              "       [ 2.09190629, -1.23276654,  0.11084355, ..., -0.36604058,\n",
              "        -0.5075031 ,  0.11812536],\n",
              "       [ 0.33884418,  0.46664532,  0.78435594, ..., -0.09470985,\n",
              "         0.51627505,  2.953134  ]])"
            ]
          },
          "metadata": {},
          "execution_count": 11
        }
      ]
    },
    {
      "cell_type": "code",
      "source": [
        "X_test_scaled"
      ],
      "metadata": {
        "colab": {
          "base_uri": "https://localhost:8080/"
        },
        "id": "srseSMRJfmbq",
        "outputId": "a3c781b6-3336-4dc1-f8a7-0ffe05a7c964"
      },
      "execution_count": null,
      "outputs": [
        {
          "output_type": "execute_result",
          "data": {
            "text/plain": [
              "array([[-0.82986389,  2.56591881,  0.27922165, ...,  1.46903995,\n",
              "         2.78665365, -0.96584853],\n",
              "       [-0.53768687, -0.49968691,  0.11084355, ...,  0.13573925,\n",
              "        -0.19434743, -0.88246592],\n",
              "       [ 0.04666716, -1.53266275, -0.89942504, ...,  0.19308552,\n",
              "        -0.23349189, -0.71570071],\n",
              "       ...,\n",
              "       [-0.82986389, -0.43304331, -1.06780314, ..., -1.03985921,\n",
              "         1.4406865 , -1.04923114],\n",
              "       [-0.24550986,  0.20007091,  0.44759974, ..., -1.65633158,\n",
              "        -0.60385869,  1.7857775 ],\n",
              "       [ 0.33884418, -1.13280114,  0.44759974, ..., -0.72445475,\n",
              "        -0.63396981,  0.28489057]])"
            ]
          },
          "metadata": {},
          "execution_count": 12
        }
      ]
    },
    {
      "cell_type": "markdown",
      "source": [
        "Decision Tree Model Training"
      ],
      "metadata": {
        "id": "0vDRTi4gf8lV"
      }
    },
    {
      "cell_type": "code",
      "source": [
        "import warnings\n",
        "warnings.filterwarnings('ignore')"
      ],
      "metadata": {
        "id": "6AHFIt75fm9y"
      },
      "execution_count": null,
      "outputs": []
    },
    {
      "cell_type": "markdown",
      "source": [
        "HyperParameter Tuning"
      ],
      "metadata": {
        "id": "9xxVvxCggZRH"
      }
    },
    {
      "cell_type": "code",
      "source": [
        "parameter = {\n",
        "    'criterion':['gini','entropy','log_losss'],\n",
        "    'splitter':['best','random'],\n",
        "    'max_depth':[1,2,3,4,5],\n",
        "    'max_features':['auto','sqrt','log2']\n",
        "}"
      ],
      "metadata": {
        "id": "Kc_l7ec0gDf0"
      },
      "execution_count": null,
      "outputs": []
    },
    {
      "cell_type": "code",
      "source": [
        "from sklearn.model_selection import GridSearchCV\n",
        "classifier = DecisionTreeClassifier()"
      ],
      "metadata": {
        "id": "lRI6aF8qgYi_"
      },
      "execution_count": null,
      "outputs": []
    },
    {
      "cell_type": "code",
      "source": [
        "clf = GridSearchCV(classifier,param_grid=parameter,cv=5,scoring='accuracy',verbose=3)"
      ],
      "metadata": {
        "id": "khWw0i2mgkpm"
      },
      "execution_count": null,
      "outputs": []
    },
    {
      "cell_type": "code",
      "source": [
        "clf.fit(X_train,y_train)"
      ],
      "metadata": {
        "colab": {
          "base_uri": "https://localhost:8080/",
          "height": 1000
        },
        "id": "yqsalXAKjxH0",
        "outputId": "c261e6c3-f60b-46aa-c3ed-61be74faa3ae"
      },
      "execution_count": null,
      "outputs": [
        {
          "output_type": "stream",
          "name": "stdout",
          "text": [
            "Fitting 5 folds for each of 90 candidates, totalling 450 fits\n",
            "[CV 1/5] END criterion=gini, max_depth=1, max_features=auto, splitter=best;, score=0.638 total time=   0.0s\n",
            "[CV 2/5] END criterion=gini, max_depth=1, max_features=auto, splitter=best;, score=0.643 total time=   0.0s\n",
            "[CV 3/5] END criterion=gini, max_depth=1, max_features=auto, splitter=best;, score=0.661 total time=   0.0s\n",
            "[CV 4/5] END criterion=gini, max_depth=1, max_features=auto, splitter=best;, score=0.643 total time=   0.0s\n",
            "[CV 5/5] END criterion=gini, max_depth=1, max_features=auto, splitter=best;, score=0.652 total time=   0.0s\n",
            "[CV 1/5] END criterion=gini, max_depth=1, max_features=auto, splitter=random;, score=0.629 total time=   0.0s\n",
            "[CV 2/5] END criterion=gini, max_depth=1, max_features=auto, splitter=random;, score=0.643 total time=   0.0s\n",
            "[CV 3/5] END criterion=gini, max_depth=1, max_features=auto, splitter=random;, score=0.643 total time=   0.0s\n",
            "[CV 4/5] END criterion=gini, max_depth=1, max_features=auto, splitter=random;, score=0.643 total time=   0.0s\n",
            "[CV 5/5] END criterion=gini, max_depth=1, max_features=auto, splitter=random;, score=0.643 total time=   0.0s\n",
            "[CV 1/5] END criterion=gini, max_depth=1, max_features=sqrt, splitter=best;, score=0.638 total time=   0.0s\n",
            "[CV 2/5] END criterion=gini, max_depth=1, max_features=sqrt, splitter=best;, score=0.748 total time=   0.0s\n",
            "[CV 3/5] END criterion=gini, max_depth=1, max_features=sqrt, splitter=best;, score=0.661 total time=   0.0s\n",
            "[CV 4/5] END criterion=gini, max_depth=1, max_features=sqrt, splitter=best;, score=0.661 total time=   0.0s\n",
            "[CV 5/5] END criterion=gini, max_depth=1, max_features=sqrt, splitter=best;, score=0.722 total time=   0.0s\n",
            "[CV 1/5] END criterion=gini, max_depth=1, max_features=sqrt, splitter=random;, score=0.638 total time=   0.0s\n",
            "[CV 2/5] END criterion=gini, max_depth=1, max_features=sqrt, splitter=random;, score=0.643 total time=   0.0s\n",
            "[CV 3/5] END criterion=gini, max_depth=1, max_features=sqrt, splitter=random;, score=0.635 total time=   0.0s\n",
            "[CV 4/5] END criterion=gini, max_depth=1, max_features=sqrt, splitter=random;, score=0.643 total time=   0.0s\n",
            "[CV 5/5] END criterion=gini, max_depth=1, max_features=sqrt, splitter=random;, score=0.643 total time=   0.0s\n",
            "[CV 1/5] END criterion=gini, max_depth=1, max_features=log2, splitter=best;, score=0.638 total time=   0.0s\n",
            "[CV 2/5] END criterion=gini, max_depth=1, max_features=log2, splitter=best;, score=0.643 total time=   0.0s\n",
            "[CV 3/5] END criterion=gini, max_depth=1, max_features=log2, splitter=best;, score=0.591 total time=   0.0s\n",
            "[CV 4/5] END criterion=gini, max_depth=1, max_features=log2, splitter=best;, score=0.687 total time=   0.0s\n",
            "[CV 5/5] END criterion=gini, max_depth=1, max_features=log2, splitter=best;, score=0.643 total time=   0.0s\n",
            "[CV 1/5] END criterion=gini, max_depth=1, max_features=log2, splitter=random;, score=0.647 total time=   0.0s\n",
            "[CV 2/5] END criterion=gini, max_depth=1, max_features=log2, splitter=random;, score=0.643 total time=   0.0s\n",
            "[CV 3/5] END criterion=gini, max_depth=1, max_features=log2, splitter=random;, score=0.626 total time=   0.0s\n",
            "[CV 4/5] END criterion=gini, max_depth=1, max_features=log2, splitter=random;, score=0.643 total time=   0.0s\n",
            "[CV 5/5] END criterion=gini, max_depth=1, max_features=log2, splitter=random;, score=0.757 total time=   0.0s\n",
            "[CV 1/5] END criterion=gini, max_depth=2, max_features=auto, splitter=best;, score=0.707 total time=   0.0s\n",
            "[CV 2/5] END criterion=gini, max_depth=2, max_features=auto, splitter=best;, score=0.774 total time=   0.0s\n",
            "[CV 3/5] END criterion=gini, max_depth=2, max_features=auto, splitter=best;, score=0.652 total time=   0.0s\n",
            "[CV 4/5] END criterion=gini, max_depth=2, max_features=auto, splitter=best;, score=0.704 total time=   0.0s\n",
            "[CV 5/5] END criterion=gini, max_depth=2, max_features=auto, splitter=best;, score=0.678 total time=   0.0s\n",
            "[CV 1/5] END criterion=gini, max_depth=2, max_features=auto, splitter=random;, score=0.672 total time=   0.0s\n",
            "[CV 2/5] END criterion=gini, max_depth=2, max_features=auto, splitter=random;, score=0.643 total time=   0.0s\n",
            "[CV 3/5] END criterion=gini, max_depth=2, max_features=auto, splitter=random;, score=0.739 total time=   0.0s\n",
            "[CV 4/5] END criterion=gini, max_depth=2, max_features=auto, splitter=random;, score=0.722 total time=   0.0s\n",
            "[CV 5/5] END criterion=gini, max_depth=2, max_features=auto, splitter=random;, score=0.643 total time=   0.0s\n",
            "[CV 1/5] END criterion=gini, max_depth=2, max_features=sqrt, splitter=best;, score=0.664 total time=   0.0s\n",
            "[CV 2/5] END criterion=gini, max_depth=2, max_features=sqrt, splitter=best;, score=0.748 total time=   0.0s\n",
            "[CV 3/5] END criterion=gini, max_depth=2, max_features=sqrt, splitter=best;, score=0.713 total time=   0.0s\n",
            "[CV 4/5] END criterion=gini, max_depth=2, max_features=sqrt, splitter=best;, score=0.643 total time=   0.0s\n",
            "[CV 5/5] END criterion=gini, max_depth=2, max_features=sqrt, splitter=best;, score=0.722 total time=   0.0s\n",
            "[CV 1/5] END criterion=gini, max_depth=2, max_features=sqrt, splitter=random;, score=0.724 total time=   0.0s\n",
            "[CV 2/5] END criterion=gini, max_depth=2, max_features=sqrt, splitter=random;, score=0.643 total time=   0.0s\n",
            "[CV 3/5] END criterion=gini, max_depth=2, max_features=sqrt, splitter=random;, score=0.748 total time=   0.0s\n",
            "[CV 4/5] END criterion=gini, max_depth=2, max_features=sqrt, splitter=random;, score=0.626 total time=   0.0s\n",
            "[CV 5/5] END criterion=gini, max_depth=2, max_features=sqrt, splitter=random;, score=0.696 total time=   0.0s\n",
            "[CV 1/5] END criterion=gini, max_depth=2, max_features=log2, splitter=best;, score=0.707 total time=   0.0s\n",
            "[CV 2/5] END criterion=gini, max_depth=2, max_features=log2, splitter=best;, score=0.722 total time=   0.0s\n",
            "[CV 3/5] END criterion=gini, max_depth=2, max_features=log2, splitter=best;, score=0.661 total time=   0.0s\n",
            "[CV 4/5] END criterion=gini, max_depth=2, max_features=log2, splitter=best;, score=0.696 total time=   0.0s\n",
            "[CV 5/5] END criterion=gini, max_depth=2, max_features=log2, splitter=best;, score=0.713 total time=   0.0s\n",
            "[CV 1/5] END criterion=gini, max_depth=2, max_features=log2, splitter=random;, score=0.664 total time=   0.0s\n",
            "[CV 2/5] END criterion=gini, max_depth=2, max_features=log2, splitter=random;, score=0.643 total time=   0.0s\n",
            "[CV 3/5] END criterion=gini, max_depth=2, max_features=log2, splitter=random;, score=0.643 total time=   0.0s\n",
            "[CV 4/5] END criterion=gini, max_depth=2, max_features=log2, splitter=random;, score=0.652 total time=   0.0s\n",
            "[CV 5/5] END criterion=gini, max_depth=2, max_features=log2, splitter=random;, score=0.748 total time=   0.0s\n",
            "[CV 1/5] END criterion=gini, max_depth=3, max_features=auto, splitter=best;, score=0.698 total time=   0.0s\n",
            "[CV 2/5] END criterion=gini, max_depth=3, max_features=auto, splitter=best;, score=0.757 total time=   0.0s\n",
            "[CV 3/5] END criterion=gini, max_depth=3, max_features=auto, splitter=best;, score=0.713 total time=   0.0s\n",
            "[CV 4/5] END criterion=gini, max_depth=3, max_features=auto, splitter=best;, score=0.730 total time=   0.0s\n",
            "[CV 5/5] END criterion=gini, max_depth=3, max_features=auto, splitter=best;, score=0.722 total time=   0.0s\n",
            "[CV 1/5] END criterion=gini, max_depth=3, max_features=auto, splitter=random;, score=0.655 total time=   0.0s\n",
            "[CV 2/5] END criterion=gini, max_depth=3, max_features=auto, splitter=random;, score=0.661 total time=   0.0s\n",
            "[CV 3/5] END criterion=gini, max_depth=3, max_features=auto, splitter=random;, score=0.661 total time=   0.0s\n",
            "[CV 4/5] END criterion=gini, max_depth=3, max_features=auto, splitter=random;, score=0.626 total time=   0.0s\n",
            "[CV 5/5] END criterion=gini, max_depth=3, max_features=auto, splitter=random;, score=0.670 total time=   0.0s\n",
            "[CV 1/5] END criterion=gini, max_depth=3, max_features=sqrt, splitter=best;, score=0.655 total time=   0.0s\n",
            "[CV 2/5] END criterion=gini, max_depth=3, max_features=sqrt, splitter=best;, score=0.765 total time=   0.0s\n",
            "[CV 3/5] END criterion=gini, max_depth=3, max_features=sqrt, splitter=best;, score=0.635 total time=   0.0s\n",
            "[CV 4/5] END criterion=gini, max_depth=3, max_features=sqrt, splitter=best;, score=0.696 total time=   0.0s\n",
            "[CV 5/5] END criterion=gini, max_depth=3, max_features=sqrt, splitter=best;, score=0.713 total time=   0.0s\n",
            "[CV 1/5] END criterion=gini, max_depth=3, max_features=sqrt, splitter=random;, score=0.647 total time=   0.0s\n",
            "[CV 2/5] END criterion=gini, max_depth=3, max_features=sqrt, splitter=random;, score=0.687 total time=   0.0s\n",
            "[CV 3/5] END criterion=gini, max_depth=3, max_features=sqrt, splitter=random;, score=0.730 total time=   0.0s\n",
            "[CV 4/5] END criterion=gini, max_depth=3, max_features=sqrt, splitter=random;, score=0.696 total time=   0.0s\n",
            "[CV 5/5] END criterion=gini, max_depth=3, max_features=sqrt, splitter=random;, score=0.661 total time=   0.0s\n",
            "[CV 1/5] END criterion=gini, max_depth=3, max_features=log2, splitter=best;, score=0.647 total time=   0.0s\n",
            "[CV 2/5] END criterion=gini, max_depth=3, max_features=log2, splitter=best;, score=0.757 total time=   0.0s\n",
            "[CV 3/5] END criterion=gini, max_depth=3, max_features=log2, splitter=best;, score=0.696 total time=   0.0s\n",
            "[CV 4/5] END criterion=gini, max_depth=3, max_features=log2, splitter=best;, score=0.704 total time=   0.0s\n",
            "[CV 5/5] END criterion=gini, max_depth=3, max_features=log2, splitter=best;, score=0.696 total time=   0.0s\n",
            "[CV 1/5] END criterion=gini, max_depth=3, max_features=log2, splitter=random;, score=0.621 total time=   0.0s\n",
            "[CV 2/5] END criterion=gini, max_depth=3, max_features=log2, splitter=random;, score=0.730 total time=   0.0s\n",
            "[CV 3/5] END criterion=gini, max_depth=3, max_features=log2, splitter=random;, score=0.687 total time=   0.0s\n",
            "[CV 4/5] END criterion=gini, max_depth=3, max_features=log2, splitter=random;, score=0.643 total time=   0.0s\n",
            "[CV 5/5] END criterion=gini, max_depth=3, max_features=log2, splitter=random;, score=0.687 total time=   0.0s\n",
            "[CV 1/5] END criterion=gini, max_depth=4, max_features=auto, splitter=best;, score=0.655 total time=   0.0s\n",
            "[CV 2/5] END criterion=gini, max_depth=4, max_features=auto, splitter=best;, score=0.678 total time=   0.0s\n",
            "[CV 3/5] END criterion=gini, max_depth=4, max_features=auto, splitter=best;, score=0.652 total time=   0.0s\n",
            "[CV 4/5] END criterion=gini, max_depth=4, max_features=auto, splitter=best;, score=0.643 total time=   0.0s\n",
            "[CV 5/5] END criterion=gini, max_depth=4, max_features=auto, splitter=best;, score=0.670 total time=   0.0s\n",
            "[CV 1/5] END criterion=gini, max_depth=4, max_features=auto, splitter=random;, score=0.629 total time=   0.0s\n",
            "[CV 2/5] END criterion=gini, max_depth=4, max_features=auto, splitter=random;, score=0.635 total time=   0.0s\n",
            "[CV 3/5] END criterion=gini, max_depth=4, max_features=auto, splitter=random;, score=0.687 total time=   0.0s\n",
            "[CV 4/5] END criterion=gini, max_depth=4, max_features=auto, splitter=random;, score=0.713 total time=   0.0s\n",
            "[CV 5/5] END criterion=gini, max_depth=4, max_features=auto, splitter=random;, score=0.757 total time=   0.0s\n",
            "[CV 1/5] END criterion=gini, max_depth=4, max_features=sqrt, splitter=best;, score=0.664 total time=   0.0s\n",
            "[CV 2/5] END criterion=gini, max_depth=4, max_features=sqrt, splitter=best;, score=0.748 total time=   0.0s\n",
            "[CV 3/5] END criterion=gini, max_depth=4, max_features=sqrt, splitter=best;, score=0.730 total time=   0.0s\n",
            "[CV 4/5] END criterion=gini, max_depth=4, max_features=sqrt, splitter=best;, score=0.678 total time=   0.0s\n",
            "[CV 5/5] END criterion=gini, max_depth=4, max_features=sqrt, splitter=best;, score=0.783 total time=   0.0s\n",
            "[CV 1/5] END criterion=gini, max_depth=4, max_features=sqrt, splitter=random;, score=0.664 total time=   0.0s\n",
            "[CV 2/5] END criterion=gini, max_depth=4, max_features=sqrt, splitter=random;, score=0.730 total time=   0.0s\n",
            "[CV 3/5] END criterion=gini, max_depth=4, max_features=sqrt, splitter=random;, score=0.800 total time=   0.0s\n",
            "[CV 4/5] END criterion=gini, max_depth=4, max_features=sqrt, splitter=random;, score=0.635 total time=   0.0s\n",
            "[CV 5/5] END criterion=gini, max_depth=4, max_features=sqrt, splitter=random;, score=0.704 total time=   0.0s\n",
            "[CV 1/5] END criterion=gini, max_depth=4, max_features=log2, splitter=best;, score=0.698 total time=   0.0s\n",
            "[CV 2/5] END criterion=gini, max_depth=4, max_features=log2, splitter=best;, score=0.765 total time=   0.0s\n",
            "[CV 3/5] END criterion=gini, max_depth=4, max_features=log2, splitter=best;, score=0.696 total time=   0.0s\n",
            "[CV 4/5] END criterion=gini, max_depth=4, max_features=log2, splitter=best;, score=0.661 total time=   0.0s\n",
            "[CV 5/5] END criterion=gini, max_depth=4, max_features=log2, splitter=best;, score=0.730 total time=   0.0s\n",
            "[CV 1/5] END criterion=gini, max_depth=4, max_features=log2, splitter=random;, score=0.716 total time=   0.0s\n",
            "[CV 2/5] END criterion=gini, max_depth=4, max_features=log2, splitter=random;, score=0.739 total time=   0.0s\n",
            "[CV 3/5] END criterion=gini, max_depth=4, max_features=log2, splitter=random;, score=0.765 total time=   0.0s\n",
            "[CV 4/5] END criterion=gini, max_depth=4, max_features=log2, splitter=random;, score=0.670 total time=   0.0s\n",
            "[CV 5/5] END criterion=gini, max_depth=4, max_features=log2, splitter=random;, score=0.652 total time=   0.0s\n",
            "[CV 1/5] END criterion=gini, max_depth=5, max_features=auto, splitter=best;, score=0.716 total time=   0.0s\n",
            "[CV 2/5] END criterion=gini, max_depth=5, max_features=auto, splitter=best;, score=0.704 total time=   0.0s\n",
            "[CV 3/5] END criterion=gini, max_depth=5, max_features=auto, splitter=best;, score=0.696 total time=   0.0s\n",
            "[CV 4/5] END criterion=gini, max_depth=5, max_features=auto, splitter=best;, score=0.652 total time=   0.0s\n",
            "[CV 5/5] END criterion=gini, max_depth=5, max_features=auto, splitter=best;, score=0.687 total time=   0.0s\n",
            "[CV 1/5] END criterion=gini, max_depth=5, max_features=auto, splitter=random;, score=0.621 total time=   0.0s\n",
            "[CV 2/5] END criterion=gini, max_depth=5, max_features=auto, splitter=random;, score=0.687 total time=   0.0s\n",
            "[CV 3/5] END criterion=gini, max_depth=5, max_features=auto, splitter=random;, score=0.574 total time=   0.0s\n",
            "[CV 4/5] END criterion=gini, max_depth=5, max_features=auto, splitter=random;, score=0.652 total time=   0.0s\n",
            "[CV 5/5] END criterion=gini, max_depth=5, max_features=auto, splitter=random;, score=0.704 total time=   0.0s\n",
            "[CV 1/5] END criterion=gini, max_depth=5, max_features=sqrt, splitter=best;, score=0.776 total time=   0.0s\n",
            "[CV 2/5] END criterion=gini, max_depth=5, max_features=sqrt, splitter=best;, score=0.713 total time=   0.0s\n",
            "[CV 3/5] END criterion=gini, max_depth=5, max_features=sqrt, splitter=best;, score=0.643 total time=   0.0s\n",
            "[CV 4/5] END criterion=gini, max_depth=5, max_features=sqrt, splitter=best;, score=0.713 total time=   0.0s\n",
            "[CV 5/5] END criterion=gini, max_depth=5, max_features=sqrt, splitter=best;, score=0.661 total time=   0.0s\n",
            "[CV 1/5] END criterion=gini, max_depth=5, max_features=sqrt, splitter=random;, score=0.724 total time=   0.0s\n",
            "[CV 2/5] END criterion=gini, max_depth=5, max_features=sqrt, splitter=random;, score=0.748 total time=   0.0s\n",
            "[CV 3/5] END criterion=gini, max_depth=5, max_features=sqrt, splitter=random;, score=0.626 total time=   0.0s\n",
            "[CV 4/5] END criterion=gini, max_depth=5, max_features=sqrt, splitter=random;, score=0.670 total time=   0.0s\n",
            "[CV 5/5] END criterion=gini, max_depth=5, max_features=sqrt, splitter=random;, score=0.722 total time=   0.0s\n",
            "[CV 1/5] END criterion=gini, max_depth=5, max_features=log2, splitter=best;, score=0.655 total time=   0.0s\n",
            "[CV 2/5] END criterion=gini, max_depth=5, max_features=log2, splitter=best;, score=0.757 total time=   0.0s\n",
            "[CV 3/5] END criterion=gini, max_depth=5, max_features=log2, splitter=best;, score=0.696 total time=   0.0s\n",
            "[CV 4/5] END criterion=gini, max_depth=5, max_features=log2, splitter=best;, score=0.730 total time=   0.0s\n",
            "[CV 5/5] END criterion=gini, max_depth=5, max_features=log2, splitter=best;, score=0.704 total time=   0.0s\n",
            "[CV 1/5] END criterion=gini, max_depth=5, max_features=log2, splitter=random;, score=0.612 total time=   0.0s\n",
            "[CV 2/5] END criterion=gini, max_depth=5, max_features=log2, splitter=random;, score=0.757 total time=   0.0s\n",
            "[CV 3/5] END criterion=gini, max_depth=5, max_features=log2, splitter=random;, score=0.765 total time=   0.0s\n",
            "[CV 4/5] END criterion=gini, max_depth=5, max_features=log2, splitter=random;, score=0.652 total time=   0.0s\n",
            "[CV 5/5] END criterion=gini, max_depth=5, max_features=log2, splitter=random;, score=0.757 total time=   0.0s\n",
            "[CV 1/5] END criterion=entropy, max_depth=1, max_features=auto, splitter=best;, score=0.638 total time=   0.0s\n",
            "[CV 2/5] END criterion=entropy, max_depth=1, max_features=auto, splitter=best;, score=0.748 total time=   0.0s\n",
            "[CV 3/5] END criterion=entropy, max_depth=1, max_features=auto, splitter=best;, score=0.652 total time=   0.0s\n",
            "[CV 4/5] END criterion=entropy, max_depth=1, max_features=auto, splitter=best;, score=0.617 total time=   0.0s\n",
            "[CV 5/5] END criterion=entropy, max_depth=1, max_features=auto, splitter=best;, score=0.722 total time=   0.0s\n",
            "[CV 1/5] END criterion=entropy, max_depth=1, max_features=auto, splitter=random;, score=0.647 total time=   0.0s\n",
            "[CV 2/5] END criterion=entropy, max_depth=1, max_features=auto, splitter=random;, score=0.643 total time=   0.0s\n",
            "[CV 3/5] END criterion=entropy, max_depth=1, max_features=auto, splitter=random;, score=0.643 total time=   0.0s\n",
            "[CV 4/5] END criterion=entropy, max_depth=1, max_features=auto, splitter=random;, score=0.643 total time=   0.0s\n",
            "[CV 5/5] END criterion=entropy, max_depth=1, max_features=auto, splitter=random;, score=0.643 total time=   0.0s\n",
            "[CV 1/5] END criterion=entropy, max_depth=1, max_features=sqrt, splitter=best;, score=0.638 total time=   0.0s\n",
            "[CV 2/5] END criterion=entropy, max_depth=1, max_features=sqrt, splitter=best;, score=0.643 total time=   0.0s\n",
            "[CV 3/5] END criterion=entropy, max_depth=1, max_features=sqrt, splitter=best;, score=0.652 total time=   0.0s\n",
            "[CV 4/5] END criterion=entropy, max_depth=1, max_features=sqrt, splitter=best;, score=0.661 total time=   0.0s\n",
            "[CV 5/5] END criterion=entropy, max_depth=1, max_features=sqrt, splitter=best;, score=0.696 total time=   0.0s\n",
            "[CV 1/5] END criterion=entropy, max_depth=1, max_features=sqrt, splitter=random;, score=0.647 total time=   0.0s\n",
            "[CV 2/5] END criterion=entropy, max_depth=1, max_features=sqrt, splitter=random;, score=0.617 total time=   0.0s\n",
            "[CV 3/5] END criterion=entropy, max_depth=1, max_features=sqrt, splitter=random;, score=0.643 total time=   0.0s\n",
            "[CV 4/5] END criterion=entropy, max_depth=1, max_features=sqrt, splitter=random;, score=0.635 total time=   0.0s\n",
            "[CV 5/5] END criterion=entropy, max_depth=1, max_features=sqrt, splitter=random;, score=0.652 total time=   0.0s\n",
            "[CV 1/5] END criterion=entropy, max_depth=1, max_features=log2, splitter=best;, score=0.638 total time=   0.0s\n",
            "[CV 2/5] END criterion=entropy, max_depth=1, max_features=log2, splitter=best;, score=0.748 total time=   0.0s\n",
            "[CV 3/5] END criterion=entropy, max_depth=1, max_features=log2, splitter=best;, score=0.643 total time=   0.0s\n",
            "[CV 4/5] END criterion=entropy, max_depth=1, max_features=log2, splitter=best;, score=0.678 total time=   0.0s\n",
            "[CV 5/5] END criterion=entropy, max_depth=1, max_features=log2, splitter=best;, score=0.583 total time=   0.0s\n",
            "[CV 1/5] END criterion=entropy, max_depth=1, max_features=log2, splitter=random;, score=0.690 total time=   0.0s\n",
            "[CV 2/5] END criterion=entropy, max_depth=1, max_features=log2, splitter=random;, score=0.643 total time=   0.0s\n",
            "[CV 3/5] END criterion=entropy, max_depth=1, max_features=log2, splitter=random;, score=0.652 total time=   0.0s\n",
            "[CV 4/5] END criterion=entropy, max_depth=1, max_features=log2, splitter=random;, score=0.661 total time=   0.0s\n",
            "[CV 5/5] END criterion=entropy, max_depth=1, max_features=log2, splitter=random;, score=0.696 total time=   0.0s\n",
            "[CV 1/5] END criterion=entropy, max_depth=2, max_features=auto, splitter=best;, score=0.698 total time=   0.0s\n",
            "[CV 2/5] END criterion=entropy, max_depth=2, max_features=auto, splitter=best;, score=0.643 total time=   0.0s\n",
            "[CV 3/5] END criterion=entropy, max_depth=2, max_features=auto, splitter=best;, score=0.626 total time=   0.0s\n",
            "[CV 4/5] END criterion=entropy, max_depth=2, max_features=auto, splitter=best;, score=0.643 total time=   0.0s\n",
            "[CV 5/5] END criterion=entropy, max_depth=2, max_features=auto, splitter=best;, score=0.748 total time=   0.0s\n",
            "[CV 1/5] END criterion=entropy, max_depth=2, max_features=auto, splitter=random;, score=0.716 total time=   0.0s\n",
            "[CV 2/5] END criterion=entropy, max_depth=2, max_features=auto, splitter=random;, score=0.652 total time=   0.0s\n",
            "[CV 3/5] END criterion=entropy, max_depth=2, max_features=auto, splitter=random;, score=0.652 total time=   0.0s\n",
            "[CV 4/5] END criterion=entropy, max_depth=2, max_features=auto, splitter=random;, score=0.643 total time=   0.0s\n",
            "[CV 5/5] END criterion=entropy, max_depth=2, max_features=auto, splitter=random;, score=0.670 total time=   0.0s\n",
            "[CV 1/5] END criterion=entropy, max_depth=2, max_features=sqrt, splitter=best;, score=0.741 total time=   0.0s\n",
            "[CV 2/5] END criterion=entropy, max_depth=2, max_features=sqrt, splitter=best;, score=0.748 total time=   0.0s\n",
            "[CV 3/5] END criterion=entropy, max_depth=2, max_features=sqrt, splitter=best;, score=0.661 total time=   0.0s\n",
            "[CV 4/5] END criterion=entropy, max_depth=2, max_features=sqrt, splitter=best;, score=0.722 total time=   0.0s\n",
            "[CV 5/5] END criterion=entropy, max_depth=2, max_features=sqrt, splitter=best;, score=0.739 total time=   0.0s\n",
            "[CV 1/5] END criterion=entropy, max_depth=2, max_features=sqrt, splitter=random;, score=0.655 total time=   0.0s\n",
            "[CV 2/5] END criterion=entropy, max_depth=2, max_features=sqrt, splitter=random;, score=0.652 total time=   0.0s\n",
            "[CV 3/5] END criterion=entropy, max_depth=2, max_features=sqrt, splitter=random;, score=0.626 total time=   0.0s\n",
            "[CV 4/5] END criterion=entropy, max_depth=2, max_features=sqrt, splitter=random;, score=0.661 total time=   0.0s\n",
            "[CV 5/5] END criterion=entropy, max_depth=2, max_features=sqrt, splitter=random;, score=0.661 total time=   0.0s\n",
            "[CV 1/5] END criterion=entropy, max_depth=2, max_features=log2, splitter=best;, score=0.698 total time=   0.0s\n",
            "[CV 2/5] END criterion=entropy, max_depth=2, max_features=log2, splitter=best;, score=0.626 total time=   0.0s\n",
            "[CV 3/5] END criterion=entropy, max_depth=2, max_features=log2, splitter=best;, score=0.713 total time=   0.0s\n",
            "[CV 4/5] END criterion=entropy, max_depth=2, max_features=log2, splitter=best;, score=0.652 total time=   0.0s\n",
            "[CV 5/5] END criterion=entropy, max_depth=2, max_features=log2, splitter=best;, score=0.722 total time=   0.0s\n",
            "[CV 1/5] END criterion=entropy, max_depth=2, max_features=log2, splitter=random;, score=0.603 total time=   0.0s\n",
            "[CV 2/5] END criterion=entropy, max_depth=2, max_features=log2, splitter=random;, score=0.713 total time=   0.0s\n",
            "[CV 3/5] END criterion=entropy, max_depth=2, max_features=log2, splitter=random;, score=0.643 total time=   0.0s\n",
            "[CV 4/5] END criterion=entropy, max_depth=2, max_features=log2, splitter=random;, score=0.670 total time=   0.0s\n",
            "[CV 5/5] END criterion=entropy, max_depth=2, max_features=log2, splitter=random;, score=0.696 total time=   0.0s\n",
            "[CV 1/5] END criterion=entropy, max_depth=3, max_features=auto, splitter=best;, score=0.672 total time=   0.0s\n",
            "[CV 2/5] END criterion=entropy, max_depth=3, max_features=auto, splitter=best;, score=0.757 total time=   0.0s\n",
            "[CV 3/5] END criterion=entropy, max_depth=3, max_features=auto, splitter=best;, score=0.670 total time=   0.0s\n",
            "[CV 4/5] END criterion=entropy, max_depth=3, max_features=auto, splitter=best;, score=0.687 total time=   0.0s\n",
            "[CV 5/5] END criterion=entropy, max_depth=3, max_features=auto, splitter=best;, score=0.739 total time=   0.0s\n",
            "[CV 1/5] END criterion=entropy, max_depth=3, max_features=auto, splitter=random;, score=0.681 total time=   0.0s\n",
            "[CV 2/5] END criterion=entropy, max_depth=3, max_features=auto, splitter=random;, score=0.722 total time=   0.0s\n",
            "[CV 3/5] END criterion=entropy, max_depth=3, max_features=auto, splitter=random;, score=0.643 total time=   0.0s\n",
            "[CV 4/5] END criterion=entropy, max_depth=3, max_features=auto, splitter=random;, score=0.661 total time=   0.0s\n",
            "[CV 5/5] END criterion=entropy, max_depth=3, max_features=auto, splitter=random;, score=0.678 total time=   0.0s\n",
            "[CV 1/5] END criterion=entropy, max_depth=3, max_features=sqrt, splitter=best;, score=0.638 total time=   0.0s\n",
            "[CV 2/5] END criterion=entropy, max_depth=3, max_features=sqrt, splitter=best;, score=0.783 total time=   0.0s\n",
            "[CV 3/5] END criterion=entropy, max_depth=3, max_features=sqrt, splitter=best;, score=0.704 total time=   0.0s\n",
            "[CV 4/5] END criterion=entropy, max_depth=3, max_features=sqrt, splitter=best;, score=0.704 total time=   0.0s\n",
            "[CV 5/5] END criterion=entropy, max_depth=3, max_features=sqrt, splitter=best;, score=0.739 total time=   0.0s\n",
            "[CV 1/5] END criterion=entropy, max_depth=3, max_features=sqrt, splitter=random;, score=0.647 total time=   0.0s\n",
            "[CV 2/5] END criterion=entropy, max_depth=3, max_features=sqrt, splitter=random;, score=0.678 total time=   0.0s\n",
            "[CV 3/5] END criterion=entropy, max_depth=3, max_features=sqrt, splitter=random;, score=0.722 total time=   0.0s\n",
            "[CV 4/5] END criterion=entropy, max_depth=3, max_features=sqrt, splitter=random;, score=0.696 total time=   0.0s\n",
            "[CV 5/5] END criterion=entropy, max_depth=3, max_features=sqrt, splitter=random;, score=0.713 total time=   0.0s\n",
            "[CV 1/5] END criterion=entropy, max_depth=3, max_features=log2, splitter=best;, score=0.690 total time=   0.0s\n",
            "[CV 2/5] END criterion=entropy, max_depth=3, max_features=log2, splitter=best;, score=0.704 total time=   0.0s\n",
            "[CV 3/5] END criterion=entropy, max_depth=3, max_features=log2, splitter=best;, score=0.704 total time=   0.0s\n",
            "[CV 4/5] END criterion=entropy, max_depth=3, max_features=log2, splitter=best;, score=0.687 total time=   0.0s\n",
            "[CV 5/5] END criterion=entropy, max_depth=3, max_features=log2, splitter=best;, score=0.626 total time=   0.0s\n",
            "[CV 1/5] END criterion=entropy, max_depth=3, max_features=log2, splitter=random;, score=0.690 total time=   0.0s\n",
            "[CV 2/5] END criterion=entropy, max_depth=3, max_features=log2, splitter=random;, score=0.687 total time=   0.0s\n",
            "[CV 3/5] END criterion=entropy, max_depth=3, max_features=log2, splitter=random;, score=0.722 total time=   0.0s\n",
            "[CV 4/5] END criterion=entropy, max_depth=3, max_features=log2, splitter=random;, score=0.609 total time=   0.0s\n",
            "[CV 5/5] END criterion=entropy, max_depth=3, max_features=log2, splitter=random;, score=0.730 total time=   0.0s\n",
            "[CV 1/5] END criterion=entropy, max_depth=4, max_features=auto, splitter=best;, score=0.638 total time=   0.0s\n",
            "[CV 2/5] END criterion=entropy, max_depth=4, max_features=auto, splitter=best;, score=0.704 total time=   0.0s\n",
            "[CV 3/5] END criterion=entropy, max_depth=4, max_features=auto, splitter=best;, score=0.678 total time=   0.0s\n",
            "[CV 4/5] END criterion=entropy, max_depth=4, max_features=auto, splitter=best;, score=0.678 total time=   0.0s\n",
            "[CV 5/5] END criterion=entropy, max_depth=4, max_features=auto, splitter=best;, score=0.704 total time=   0.0s\n",
            "[CV 1/5] END criterion=entropy, max_depth=4, max_features=auto, splitter=random;, score=0.603 total time=   0.0s\n",
            "[CV 2/5] END criterion=entropy, max_depth=4, max_features=auto, splitter=random;, score=0.670 total time=   0.0s\n",
            "[CV 3/5] END criterion=entropy, max_depth=4, max_features=auto, splitter=random;, score=0.670 total time=   0.0s\n",
            "[CV 4/5] END criterion=entropy, max_depth=4, max_features=auto, splitter=random;, score=0.678 total time=   0.0s\n",
            "[CV 5/5] END criterion=entropy, max_depth=4, max_features=auto, splitter=random;, score=0.635 total time=   0.0s\n",
            "[CV 1/5] END criterion=entropy, max_depth=4, max_features=sqrt, splitter=best;, score=0.698 total time=   0.0s\n",
            "[CV 2/5] END criterion=entropy, max_depth=4, max_features=sqrt, splitter=best;, score=0.774 total time=   0.0s\n",
            "[CV 3/5] END criterion=entropy, max_depth=4, max_features=sqrt, splitter=best;, score=0.626 total time=   0.0s\n",
            "[CV 4/5] END criterion=entropy, max_depth=4, max_features=sqrt, splitter=best;, score=0.696 total time=   0.0s\n",
            "[CV 5/5] END criterion=entropy, max_depth=4, max_features=sqrt, splitter=best;, score=0.730 total time=   0.0s\n",
            "[CV 1/5] END criterion=entropy, max_depth=4, max_features=sqrt, splitter=random;, score=0.664 total time=   0.0s\n",
            "[CV 2/5] END criterion=entropy, max_depth=4, max_features=sqrt, splitter=random;, score=0.722 total time=   0.0s\n",
            "[CV 3/5] END criterion=entropy, max_depth=4, max_features=sqrt, splitter=random;, score=0.652 total time=   0.0s\n",
            "[CV 4/5] END criterion=entropy, max_depth=4, max_features=sqrt, splitter=random;, score=0.704 total time=   0.0s\n",
            "[CV 5/5] END criterion=entropy, max_depth=4, max_features=sqrt, splitter=random;, score=0.635 total time=   0.0s\n",
            "[CV 1/5] END criterion=entropy, max_depth=4, max_features=log2, splitter=best;, score=0.724 total time=   0.0s\n",
            "[CV 2/5] END criterion=entropy, max_depth=4, max_features=log2, splitter=best;, score=0.765 total time=   0.0s\n",
            "[CV 3/5] END criterion=entropy, max_depth=4, max_features=log2, splitter=best;, score=0.739 total time=   0.0s\n",
            "[CV 4/5] END criterion=entropy, max_depth=4, max_features=log2, splitter=best;, score=0.704 total time=   0.0s\n",
            "[CV 5/5] END criterion=entropy, max_depth=4, max_features=log2, splitter=best;, score=0.748 total time=   0.0s\n",
            "[CV 1/5] END criterion=entropy, max_depth=4, max_features=log2, splitter=random;, score=0.664 total time=   0.0s\n",
            "[CV 2/5] END criterion=entropy, max_depth=4, max_features=log2, splitter=random;, score=0.722 total time=   0.0s\n",
            "[CV 3/5] END criterion=entropy, max_depth=4, max_features=log2, splitter=random;, score=0.739 total time=   0.0s\n",
            "[CV 4/5] END criterion=entropy, max_depth=4, max_features=log2, splitter=random;, score=0.670 total time=   0.0s\n",
            "[CV 5/5] END criterion=entropy, max_depth=4, max_features=log2, splitter=random;, score=0.739 total time=   0.0s\n",
            "[CV 1/5] END criterion=entropy, max_depth=5, max_features=auto, splitter=best;, score=0.638 total time=   0.0s\n",
            "[CV 2/5] END criterion=entropy, max_depth=5, max_features=auto, splitter=best;, score=0.713 total time=   0.0s\n",
            "[CV 3/5] END criterion=entropy, max_depth=5, max_features=auto, splitter=best;, score=0.687 total time=   0.0s\n",
            "[CV 4/5] END criterion=entropy, max_depth=5, max_features=auto, splitter=best;, score=0.661 total time=   0.0s\n",
            "[CV 5/5] END criterion=entropy, max_depth=5, max_features=auto, splitter=best;, score=0.800 total time=   0.0s\n",
            "[CV 1/5] END criterion=entropy, max_depth=5, max_features=auto, splitter=random;, score=0.733 total time=   0.0s\n",
            "[CV 2/5] END criterion=entropy, max_depth=5, max_features=auto, splitter=random;, score=0.661 total time=   0.0s\n",
            "[CV 3/5] END criterion=entropy, max_depth=5, max_features=auto, splitter=random;, score=0.722 total time=   0.0s\n",
            "[CV 4/5] END criterion=entropy, max_depth=5, max_features=auto, splitter=random;, score=0.678 total time=   0.0s\n",
            "[CV 5/5] END criterion=entropy, max_depth=5, max_features=auto, splitter=random;, score=0.757 total time=   0.0s\n",
            "[CV 1/5] END criterion=entropy, max_depth=5, max_features=sqrt, splitter=best;, score=0.698 total time=   0.0s\n",
            "[CV 2/5] END criterion=entropy, max_depth=5, max_features=sqrt, splitter=best;, score=0.687 total time=   0.0s\n",
            "[CV 3/5] END criterion=entropy, max_depth=5, max_features=sqrt, splitter=best;, score=0.765 total time=   0.0s\n",
            "[CV 4/5] END criterion=entropy, max_depth=5, max_features=sqrt, splitter=best;, score=0.687 total time=   0.0s\n",
            "[CV 5/5] END criterion=entropy, max_depth=5, max_features=sqrt, splitter=best;, score=0.704 total time=   0.0s\n",
            "[CV 1/5] END criterion=entropy, max_depth=5, max_features=sqrt, splitter=random;, score=0.664 total time=   0.0s\n",
            "[CV 2/5] END criterion=entropy, max_depth=5, max_features=sqrt, splitter=random;, score=0.652 total time=   0.0s\n",
            "[CV 3/5] END criterion=entropy, max_depth=5, max_features=sqrt, splitter=random;, score=0.713 total time=   0.0s\n",
            "[CV 4/5] END criterion=entropy, max_depth=5, max_features=sqrt, splitter=random;, score=0.670 total time=   0.0s\n",
            "[CV 5/5] END criterion=entropy, max_depth=5, max_features=sqrt, splitter=random;, score=0.739 total time=   0.0s\n",
            "[CV 1/5] END criterion=entropy, max_depth=5, max_features=log2, splitter=best;, score=0.690 total time=   0.0s\n",
            "[CV 2/5] END criterion=entropy, max_depth=5, max_features=log2, splitter=best;, score=0.696 total time=   0.0s\n",
            "[CV 3/5] END criterion=entropy, max_depth=5, max_features=log2, splitter=best;, score=0.739 total time=   0.0s\n",
            "[CV 4/5] END criterion=entropy, max_depth=5, max_features=log2, splitter=best;, score=0.713 total time=   0.0s\n",
            "[CV 5/5] END criterion=entropy, max_depth=5, max_features=log2, splitter=best;, score=0.722 total time=   0.0s\n",
            "[CV 1/5] END criterion=entropy, max_depth=5, max_features=log2, splitter=random;, score=0.681 total time=   0.0s\n",
            "[CV 2/5] END criterion=entropy, max_depth=5, max_features=log2, splitter=random;, score=0.696 total time=   0.0s\n",
            "[CV 3/5] END criterion=entropy, max_depth=5, max_features=log2, splitter=random;, score=0.583 total time=   0.0s\n",
            "[CV 4/5] END criterion=entropy, max_depth=5, max_features=log2, splitter=random;, score=0.643 total time=   0.0s\n",
            "[CV 5/5] END criterion=entropy, max_depth=5, max_features=log2, splitter=random;, score=0.748 total time=   0.0s\n",
            "[CV 1/5] END criterion=log_losss, max_depth=1, max_features=auto, splitter=best;, score=nan total time=   0.0s\n",
            "[CV 2/5] END criterion=log_losss, max_depth=1, max_features=auto, splitter=best;, score=nan total time=   0.0s\n",
            "[CV 3/5] END criterion=log_losss, max_depth=1, max_features=auto, splitter=best;, score=nan total time=   0.0s\n",
            "[CV 4/5] END criterion=log_losss, max_depth=1, max_features=auto, splitter=best;, score=nan total time=   0.0s\n",
            "[CV 5/5] END criterion=log_losss, max_depth=1, max_features=auto, splitter=best;, score=nan total time=   0.0s\n",
            "[CV 1/5] END criterion=log_losss, max_depth=1, max_features=auto, splitter=random;, score=nan total time=   0.0s\n",
            "[CV 2/5] END criterion=log_losss, max_depth=1, max_features=auto, splitter=random;, score=nan total time=   0.0s\n",
            "[CV 3/5] END criterion=log_losss, max_depth=1, max_features=auto, splitter=random;, score=nan total time=   0.0s\n",
            "[CV 4/5] END criterion=log_losss, max_depth=1, max_features=auto, splitter=random;, score=nan total time=   0.0s\n",
            "[CV 5/5] END criterion=log_losss, max_depth=1, max_features=auto, splitter=random;, score=nan total time=   0.0s\n",
            "[CV 1/5] END criterion=log_losss, max_depth=1, max_features=sqrt, splitter=best;, score=nan total time=   0.0s\n",
            "[CV 2/5] END criterion=log_losss, max_depth=1, max_features=sqrt, splitter=best;, score=nan total time=   0.0s\n",
            "[CV 3/5] END criterion=log_losss, max_depth=1, max_features=sqrt, splitter=best;, score=nan total time=   0.0s\n",
            "[CV 4/5] END criterion=log_losss, max_depth=1, max_features=sqrt, splitter=best;, score=nan total time=   0.0s\n",
            "[CV 5/5] END criterion=log_losss, max_depth=1, max_features=sqrt, splitter=best;, score=nan total time=   0.0s\n",
            "[CV 1/5] END criterion=log_losss, max_depth=1, max_features=sqrt, splitter=random;, score=nan total time=   0.0s\n",
            "[CV 2/5] END criterion=log_losss, max_depth=1, max_features=sqrt, splitter=random;, score=nan total time=   0.0s\n",
            "[CV 3/5] END criterion=log_losss, max_depth=1, max_features=sqrt, splitter=random;, score=nan total time=   0.0s\n",
            "[CV 4/5] END criterion=log_losss, max_depth=1, max_features=sqrt, splitter=random;, score=nan total time=   0.0s\n",
            "[CV 5/5] END criterion=log_losss, max_depth=1, max_features=sqrt, splitter=random;, score=nan total time=   0.0s\n",
            "[CV 1/5] END criterion=log_losss, max_depth=1, max_features=log2, splitter=best;, score=nan total time=   0.0s\n",
            "[CV 2/5] END criterion=log_losss, max_depth=1, max_features=log2, splitter=best;, score=nan total time=   0.0s\n",
            "[CV 3/5] END criterion=log_losss, max_depth=1, max_features=log2, splitter=best;, score=nan total time=   0.0s\n",
            "[CV 4/5] END criterion=log_losss, max_depth=1, max_features=log2, splitter=best;, score=nan total time=   0.0s\n",
            "[CV 5/5] END criterion=log_losss, max_depth=1, max_features=log2, splitter=best;, score=nan total time=   0.0s\n",
            "[CV 1/5] END criterion=log_losss, max_depth=1, max_features=log2, splitter=random;, score=nan total time=   0.0s\n",
            "[CV 2/5] END criterion=log_losss, max_depth=1, max_features=log2, splitter=random;, score=nan total time=   0.0s\n",
            "[CV 3/5] END criterion=log_losss, max_depth=1, max_features=log2, splitter=random;, score=nan total time=   0.0s\n",
            "[CV 4/5] END criterion=log_losss, max_depth=1, max_features=log2, splitter=random;, score=nan total time=   0.0s\n",
            "[CV 5/5] END criterion=log_losss, max_depth=1, max_features=log2, splitter=random;, score=nan total time=   0.0s\n",
            "[CV 1/5] END criterion=log_losss, max_depth=2, max_features=auto, splitter=best;, score=nan total time=   0.0s\n",
            "[CV 2/5] END criterion=log_losss, max_depth=2, max_features=auto, splitter=best;, score=nan total time=   0.0s\n",
            "[CV 3/5] END criterion=log_losss, max_depth=2, max_features=auto, splitter=best;, score=nan total time=   0.0s\n",
            "[CV 4/5] END criterion=log_losss, max_depth=2, max_features=auto, splitter=best;, score=nan total time=   0.0s\n",
            "[CV 5/5] END criterion=log_losss, max_depth=2, max_features=auto, splitter=best;, score=nan total time=   0.0s\n",
            "[CV 1/5] END criterion=log_losss, max_depth=2, max_features=auto, splitter=random;, score=nan total time=   0.0s\n",
            "[CV 2/5] END criterion=log_losss, max_depth=2, max_features=auto, splitter=random;, score=nan total time=   0.0s\n",
            "[CV 3/5] END criterion=log_losss, max_depth=2, max_features=auto, splitter=random;, score=nan total time=   0.0s\n",
            "[CV 4/5] END criterion=log_losss, max_depth=2, max_features=auto, splitter=random;, score=nan total time=   0.0s\n",
            "[CV 5/5] END criterion=log_losss, max_depth=2, max_features=auto, splitter=random;, score=nan total time=   0.0s\n",
            "[CV 1/5] END criterion=log_losss, max_depth=2, max_features=sqrt, splitter=best;, score=nan total time=   0.0s\n",
            "[CV 2/5] END criterion=log_losss, max_depth=2, max_features=sqrt, splitter=best;, score=nan total time=   0.0s\n",
            "[CV 3/5] END criterion=log_losss, max_depth=2, max_features=sqrt, splitter=best;, score=nan total time=   0.0s\n",
            "[CV 4/5] END criterion=log_losss, max_depth=2, max_features=sqrt, splitter=best;, score=nan total time=   0.0s\n",
            "[CV 5/5] END criterion=log_losss, max_depth=2, max_features=sqrt, splitter=best;, score=nan total time=   0.0s\n",
            "[CV 1/5] END criterion=log_losss, max_depth=2, max_features=sqrt, splitter=random;, score=nan total time=   0.0s\n",
            "[CV 2/5] END criterion=log_losss, max_depth=2, max_features=sqrt, splitter=random;, score=nan total time=   0.0s\n",
            "[CV 3/5] END criterion=log_losss, max_depth=2, max_features=sqrt, splitter=random;, score=nan total time=   0.0s\n",
            "[CV 4/5] END criterion=log_losss, max_depth=2, max_features=sqrt, splitter=random;, score=nan total time=   0.0s\n",
            "[CV 5/5] END criterion=log_losss, max_depth=2, max_features=sqrt, splitter=random;, score=nan total time=   0.0s\n",
            "[CV 1/5] END criterion=log_losss, max_depth=2, max_features=log2, splitter=best;, score=nan total time=   0.0s\n",
            "[CV 2/5] END criterion=log_losss, max_depth=2, max_features=log2, splitter=best;, score=nan total time=   0.0s\n",
            "[CV 3/5] END criterion=log_losss, max_depth=2, max_features=log2, splitter=best;, score=nan total time=   0.0s\n",
            "[CV 4/5] END criterion=log_losss, max_depth=2, max_features=log2, splitter=best;, score=nan total time=   0.0s\n",
            "[CV 5/5] END criterion=log_losss, max_depth=2, max_features=log2, splitter=best;, score=nan total time=   0.0s\n",
            "[CV 1/5] END criterion=log_losss, max_depth=2, max_features=log2, splitter=random;, score=nan total time=   0.0s\n",
            "[CV 2/5] END criterion=log_losss, max_depth=2, max_features=log2, splitter=random;, score=nan total time=   0.0s\n",
            "[CV 3/5] END criterion=log_losss, max_depth=2, max_features=log2, splitter=random;, score=nan total time=   0.0s\n",
            "[CV 4/5] END criterion=log_losss, max_depth=2, max_features=log2, splitter=random;, score=nan total time=   0.0s\n",
            "[CV 5/5] END criterion=log_losss, max_depth=2, max_features=log2, splitter=random;, score=nan total time=   0.0s\n",
            "[CV 1/5] END criterion=log_losss, max_depth=3, max_features=auto, splitter=best;, score=nan total time=   0.0s\n",
            "[CV 2/5] END criterion=log_losss, max_depth=3, max_features=auto, splitter=best;, score=nan total time=   0.0s\n",
            "[CV 3/5] END criterion=log_losss, max_depth=3, max_features=auto, splitter=best;, score=nan total time=   0.0s\n",
            "[CV 4/5] END criterion=log_losss, max_depth=3, max_features=auto, splitter=best;, score=nan total time=   0.0s\n",
            "[CV 5/5] END criterion=log_losss, max_depth=3, max_features=auto, splitter=best;, score=nan total time=   0.0s\n",
            "[CV 1/5] END criterion=log_losss, max_depth=3, max_features=auto, splitter=random;, score=nan total time=   0.0s\n",
            "[CV 2/5] END criterion=log_losss, max_depth=3, max_features=auto, splitter=random;, score=nan total time=   0.0s\n",
            "[CV 3/5] END criterion=log_losss, max_depth=3, max_features=auto, splitter=random;, score=nan total time=   0.0s\n",
            "[CV 4/5] END criterion=log_losss, max_depth=3, max_features=auto, splitter=random;, score=nan total time=   0.0s\n",
            "[CV 5/5] END criterion=log_losss, max_depth=3, max_features=auto, splitter=random;, score=nan total time=   0.0s\n",
            "[CV 1/5] END criterion=log_losss, max_depth=3, max_features=sqrt, splitter=best;, score=nan total time=   0.0s\n",
            "[CV 2/5] END criterion=log_losss, max_depth=3, max_features=sqrt, splitter=best;, score=nan total time=   0.0s\n",
            "[CV 3/5] END criterion=log_losss, max_depth=3, max_features=sqrt, splitter=best;, score=nan total time=   0.0s\n",
            "[CV 4/5] END criterion=log_losss, max_depth=3, max_features=sqrt, splitter=best;, score=nan total time=   0.0s\n",
            "[CV 5/5] END criterion=log_losss, max_depth=3, max_features=sqrt, splitter=best;, score=nan total time=   0.0s\n",
            "[CV 1/5] END criterion=log_losss, max_depth=3, max_features=sqrt, splitter=random;, score=nan total time=   0.0s\n",
            "[CV 2/5] END criterion=log_losss, max_depth=3, max_features=sqrt, splitter=random;, score=nan total time=   0.0s\n",
            "[CV 3/5] END criterion=log_losss, max_depth=3, max_features=sqrt, splitter=random;, score=nan total time=   0.0s\n",
            "[CV 4/5] END criterion=log_losss, max_depth=3, max_features=sqrt, splitter=random;, score=nan total time=   0.0s\n",
            "[CV 5/5] END criterion=log_losss, max_depth=3, max_features=sqrt, splitter=random;, score=nan total time=   0.0s\n",
            "[CV 1/5] END criterion=log_losss, max_depth=3, max_features=log2, splitter=best;, score=nan total time=   0.0s\n",
            "[CV 2/5] END criterion=log_losss, max_depth=3, max_features=log2, splitter=best;, score=nan total time=   0.0s\n",
            "[CV 3/5] END criterion=log_losss, max_depth=3, max_features=log2, splitter=best;, score=nan total time=   0.0s\n",
            "[CV 4/5] END criterion=log_losss, max_depth=3, max_features=log2, splitter=best;, score=nan total time=   0.0s\n",
            "[CV 5/5] END criterion=log_losss, max_depth=3, max_features=log2, splitter=best;, score=nan total time=   0.0s\n",
            "[CV 1/5] END criterion=log_losss, max_depth=3, max_features=log2, splitter=random;, score=nan total time=   0.0s\n",
            "[CV 2/5] END criterion=log_losss, max_depth=3, max_features=log2, splitter=random;, score=nan total time=   0.0s\n",
            "[CV 3/5] END criterion=log_losss, max_depth=3, max_features=log2, splitter=random;, score=nan total time=   0.0s\n",
            "[CV 4/5] END criterion=log_losss, max_depth=3, max_features=log2, splitter=random;, score=nan total time=   0.0s\n",
            "[CV 5/5] END criterion=log_losss, max_depth=3, max_features=log2, splitter=random;, score=nan total time=   0.0s\n",
            "[CV 1/5] END criterion=log_losss, max_depth=4, max_features=auto, splitter=best;, score=nan total time=   0.0s\n",
            "[CV 2/5] END criterion=log_losss, max_depth=4, max_features=auto, splitter=best;, score=nan total time=   0.0s\n",
            "[CV 3/5] END criterion=log_losss, max_depth=4, max_features=auto, splitter=best;, score=nan total time=   0.0s\n",
            "[CV 4/5] END criterion=log_losss, max_depth=4, max_features=auto, splitter=best;, score=nan total time=   0.0s\n",
            "[CV 5/5] END criterion=log_losss, max_depth=4, max_features=auto, splitter=best;, score=nan total time=   0.0s\n",
            "[CV 1/5] END criterion=log_losss, max_depth=4, max_features=auto, splitter=random;, score=nan total time=   0.0s\n",
            "[CV 2/5] END criterion=log_losss, max_depth=4, max_features=auto, splitter=random;, score=nan total time=   0.0s\n",
            "[CV 3/5] END criterion=log_losss, max_depth=4, max_features=auto, splitter=random;, score=nan total time=   0.0s\n",
            "[CV 4/5] END criterion=log_losss, max_depth=4, max_features=auto, splitter=random;, score=nan total time=   0.0s\n",
            "[CV 5/5] END criterion=log_losss, max_depth=4, max_features=auto, splitter=random;, score=nan total time=   0.0s\n",
            "[CV 1/5] END criterion=log_losss, max_depth=4, max_features=sqrt, splitter=best;, score=nan total time=   0.0s\n",
            "[CV 2/5] END criterion=log_losss, max_depth=4, max_features=sqrt, splitter=best;, score=nan total time=   0.0s\n",
            "[CV 3/5] END criterion=log_losss, max_depth=4, max_features=sqrt, splitter=best;, score=nan total time=   0.0s\n",
            "[CV 4/5] END criterion=log_losss, max_depth=4, max_features=sqrt, splitter=best;, score=nan total time=   0.0s\n",
            "[CV 5/5] END criterion=log_losss, max_depth=4, max_features=sqrt, splitter=best;, score=nan total time=   0.0s\n",
            "[CV 1/5] END criterion=log_losss, max_depth=4, max_features=sqrt, splitter=random;, score=nan total time=   0.0s\n",
            "[CV 2/5] END criterion=log_losss, max_depth=4, max_features=sqrt, splitter=random;, score=nan total time=   0.0s\n",
            "[CV 3/5] END criterion=log_losss, max_depth=4, max_features=sqrt, splitter=random;, score=nan total time=   0.0s\n",
            "[CV 4/5] END criterion=log_losss, max_depth=4, max_features=sqrt, splitter=random;, score=nan total time=   0.0s\n",
            "[CV 5/5] END criterion=log_losss, max_depth=4, max_features=sqrt, splitter=random;, score=nan total time=   0.0s\n",
            "[CV 1/5] END criterion=log_losss, max_depth=4, max_features=log2, splitter=best;, score=nan total time=   0.0s\n",
            "[CV 2/5] END criterion=log_losss, max_depth=4, max_features=log2, splitter=best;, score=nan total time=   0.0s\n",
            "[CV 3/5] END criterion=log_losss, max_depth=4, max_features=log2, splitter=best;, score=nan total time=   0.0s\n",
            "[CV 4/5] END criterion=log_losss, max_depth=4, max_features=log2, splitter=best;, score=nan total time=   0.0s\n",
            "[CV 5/5] END criterion=log_losss, max_depth=4, max_features=log2, splitter=best;, score=nan total time=   0.0s\n",
            "[CV 1/5] END criterion=log_losss, max_depth=4, max_features=log2, splitter=random;, score=nan total time=   0.0s\n",
            "[CV 2/5] END criterion=log_losss, max_depth=4, max_features=log2, splitter=random;, score=nan total time=   0.0s\n",
            "[CV 3/5] END criterion=log_losss, max_depth=4, max_features=log2, splitter=random;, score=nan total time=   0.0s\n",
            "[CV 4/5] END criterion=log_losss, max_depth=4, max_features=log2, splitter=random;, score=nan total time=   0.0s\n",
            "[CV 5/5] END criterion=log_losss, max_depth=4, max_features=log2, splitter=random;, score=nan total time=   0.0s\n",
            "[CV 1/5] END criterion=log_losss, max_depth=5, max_features=auto, splitter=best;, score=nan total time=   0.0s\n",
            "[CV 2/5] END criterion=log_losss, max_depth=5, max_features=auto, splitter=best;, score=nan total time=   0.0s\n",
            "[CV 3/5] END criterion=log_losss, max_depth=5, max_features=auto, splitter=best;, score=nan total time=   0.0s\n",
            "[CV 4/5] END criterion=log_losss, max_depth=5, max_features=auto, splitter=best;, score=nan total time=   0.0s\n",
            "[CV 5/5] END criterion=log_losss, max_depth=5, max_features=auto, splitter=best;, score=nan total time=   0.0s\n",
            "[CV 1/5] END criterion=log_losss, max_depth=5, max_features=auto, splitter=random;, score=nan total time=   0.0s\n",
            "[CV 2/5] END criterion=log_losss, max_depth=5, max_features=auto, splitter=random;, score=nan total time=   0.0s\n",
            "[CV 3/5] END criterion=log_losss, max_depth=5, max_features=auto, splitter=random;, score=nan total time=   0.0s\n",
            "[CV 4/5] END criterion=log_losss, max_depth=5, max_features=auto, splitter=random;, score=nan total time=   0.0s\n",
            "[CV 5/5] END criterion=log_losss, max_depth=5, max_features=auto, splitter=random;, score=nan total time=   0.0s\n",
            "[CV 1/5] END criterion=log_losss, max_depth=5, max_features=sqrt, splitter=best;, score=nan total time=   0.0s\n",
            "[CV 2/5] END criterion=log_losss, max_depth=5, max_features=sqrt, splitter=best;, score=nan total time=   0.0s\n",
            "[CV 3/5] END criterion=log_losss, max_depth=5, max_features=sqrt, splitter=best;, score=nan total time=   0.0s\n",
            "[CV 4/5] END criterion=log_losss, max_depth=5, max_features=sqrt, splitter=best;, score=nan total time=   0.0s\n",
            "[CV 5/5] END criterion=log_losss, max_depth=5, max_features=sqrt, splitter=best;, score=nan total time=   0.0s\n",
            "[CV 1/5] END criterion=log_losss, max_depth=5, max_features=sqrt, splitter=random;, score=nan total time=   0.0s\n",
            "[CV 2/5] END criterion=log_losss, max_depth=5, max_features=sqrt, splitter=random;, score=nan total time=   0.0s\n",
            "[CV 3/5] END criterion=log_losss, max_depth=5, max_features=sqrt, splitter=random;, score=nan total time=   0.0s\n",
            "[CV 4/5] END criterion=log_losss, max_depth=5, max_features=sqrt, splitter=random;, score=nan total time=   0.0s\n",
            "[CV 5/5] END criterion=log_losss, max_depth=5, max_features=sqrt, splitter=random;, score=nan total time=   0.0s\n",
            "[CV 1/5] END criterion=log_losss, max_depth=5, max_features=log2, splitter=best;, score=nan total time=   0.0s\n",
            "[CV 2/5] END criterion=log_losss, max_depth=5, max_features=log2, splitter=best;, score=nan total time=   0.0s\n",
            "[CV 3/5] END criterion=log_losss, max_depth=5, max_features=log2, splitter=best;, score=nan total time=   0.0s\n",
            "[CV 4/5] END criterion=log_losss, max_depth=5, max_features=log2, splitter=best;, score=nan total time=   0.0s\n",
            "[CV 5/5] END criterion=log_losss, max_depth=5, max_features=log2, splitter=best;, score=nan total time=   0.0s\n",
            "[CV 1/5] END criterion=log_losss, max_depth=5, max_features=log2, splitter=random;, score=nan total time=   0.0s\n",
            "[CV 2/5] END criterion=log_losss, max_depth=5, max_features=log2, splitter=random;, score=nan total time=   0.0s\n",
            "[CV 3/5] END criterion=log_losss, max_depth=5, max_features=log2, splitter=random;, score=nan total time=   0.0s\n",
            "[CV 4/5] END criterion=log_losss, max_depth=5, max_features=log2, splitter=random;, score=nan total time=   0.0s\n",
            "[CV 5/5] END criterion=log_losss, max_depth=5, max_features=log2, splitter=random;, score=nan total time=   0.0s\n"
          ]
        },
        {
          "output_type": "execute_result",
          "data": {
            "text/plain": [
              "GridSearchCV(cv=5, estimator=DecisionTreeClassifier(),\n",
              "             param_grid={'criterion': ['gini', 'entropy', 'log_losss'],\n",
              "                         'max_depth': [1, 2, 3, 4, 5],\n",
              "                         'max_features': ['auto', 'sqrt', 'log2'],\n",
              "                         'splitter': ['best', 'random']},\n",
              "             scoring='accuracy', verbose=3)"
            ],
            "text/html": [
              "<style>#sk-container-id-1 {color: black;background-color: white;}#sk-container-id-1 pre{padding: 0;}#sk-container-id-1 div.sk-toggleable {background-color: white;}#sk-container-id-1 label.sk-toggleable__label {cursor: pointer;display: block;width: 100%;margin-bottom: 0;padding: 0.3em;box-sizing: border-box;text-align: center;}#sk-container-id-1 label.sk-toggleable__label-arrow:before {content: \"▸\";float: left;margin-right: 0.25em;color: #696969;}#sk-container-id-1 label.sk-toggleable__label-arrow:hover:before {color: black;}#sk-container-id-1 div.sk-estimator:hover label.sk-toggleable__label-arrow:before {color: black;}#sk-container-id-1 div.sk-toggleable__content {max-height: 0;max-width: 0;overflow: hidden;text-align: left;background-color: #f0f8ff;}#sk-container-id-1 div.sk-toggleable__content pre {margin: 0.2em;color: black;border-radius: 0.25em;background-color: #f0f8ff;}#sk-container-id-1 input.sk-toggleable__control:checked~div.sk-toggleable__content {max-height: 200px;max-width: 100%;overflow: auto;}#sk-container-id-1 input.sk-toggleable__control:checked~label.sk-toggleable__label-arrow:before {content: \"▾\";}#sk-container-id-1 div.sk-estimator input.sk-toggleable__control:checked~label.sk-toggleable__label {background-color: #d4ebff;}#sk-container-id-1 div.sk-label input.sk-toggleable__control:checked~label.sk-toggleable__label {background-color: #d4ebff;}#sk-container-id-1 input.sk-hidden--visually {border: 0;clip: rect(1px 1px 1px 1px);clip: rect(1px, 1px, 1px, 1px);height: 1px;margin: -1px;overflow: hidden;padding: 0;position: absolute;width: 1px;}#sk-container-id-1 div.sk-estimator {font-family: monospace;background-color: #f0f8ff;border: 1px dotted black;border-radius: 0.25em;box-sizing: border-box;margin-bottom: 0.5em;}#sk-container-id-1 div.sk-estimator:hover {background-color: #d4ebff;}#sk-container-id-1 div.sk-parallel-item::after {content: \"\";width: 100%;border-bottom: 1px solid gray;flex-grow: 1;}#sk-container-id-1 div.sk-label:hover label.sk-toggleable__label {background-color: #d4ebff;}#sk-container-id-1 div.sk-serial::before {content: \"\";position: absolute;border-left: 1px solid gray;box-sizing: border-box;top: 0;bottom: 0;left: 50%;z-index: 0;}#sk-container-id-1 div.sk-serial {display: flex;flex-direction: column;align-items: center;background-color: white;padding-right: 0.2em;padding-left: 0.2em;position: relative;}#sk-container-id-1 div.sk-item {position: relative;z-index: 1;}#sk-container-id-1 div.sk-parallel {display: flex;align-items: stretch;justify-content: center;background-color: white;position: relative;}#sk-container-id-1 div.sk-item::before, #sk-container-id-1 div.sk-parallel-item::before {content: \"\";position: absolute;border-left: 1px solid gray;box-sizing: border-box;top: 0;bottom: 0;left: 50%;z-index: -1;}#sk-container-id-1 div.sk-parallel-item {display: flex;flex-direction: column;z-index: 1;position: relative;background-color: white;}#sk-container-id-1 div.sk-parallel-item:first-child::after {align-self: flex-end;width: 50%;}#sk-container-id-1 div.sk-parallel-item:last-child::after {align-self: flex-start;width: 50%;}#sk-container-id-1 div.sk-parallel-item:only-child::after {width: 0;}#sk-container-id-1 div.sk-dashed-wrapped {border: 1px dashed gray;margin: 0 0.4em 0.5em 0.4em;box-sizing: border-box;padding-bottom: 0.4em;background-color: white;}#sk-container-id-1 div.sk-label label {font-family: monospace;font-weight: bold;display: inline-block;line-height: 1.2em;}#sk-container-id-1 div.sk-label-container {text-align: center;}#sk-container-id-1 div.sk-container {/* jupyter's `normalize.less` sets `[hidden] { display: none; }` but bootstrap.min.css set `[hidden] { display: none !important; }` so we also need the `!important` here to be able to override the default hidden behavior on the sphinx rendered scikit-learn.org. See: https://github.com/scikit-learn/scikit-learn/issues/21755 */display: inline-block !important;position: relative;}#sk-container-id-1 div.sk-text-repr-fallback {display: none;}</style><div id=\"sk-container-id-1\" class=\"sk-top-container\"><div class=\"sk-text-repr-fallback\"><pre>GridSearchCV(cv=5, estimator=DecisionTreeClassifier(),\n",
              "             param_grid={&#x27;criterion&#x27;: [&#x27;gini&#x27;, &#x27;entropy&#x27;, &#x27;log_losss&#x27;],\n",
              "                         &#x27;max_depth&#x27;: [1, 2, 3, 4, 5],\n",
              "                         &#x27;max_features&#x27;: [&#x27;auto&#x27;, &#x27;sqrt&#x27;, &#x27;log2&#x27;],\n",
              "                         &#x27;splitter&#x27;: [&#x27;best&#x27;, &#x27;random&#x27;]},\n",
              "             scoring=&#x27;accuracy&#x27;, verbose=3)</pre><b>In a Jupyter environment, please rerun this cell to show the HTML representation or trust the notebook. <br />On GitHub, the HTML representation is unable to render, please try loading this page with nbviewer.org.</b></div><div class=\"sk-container\" hidden><div class=\"sk-item sk-dashed-wrapped\"><div class=\"sk-label-container\"><div class=\"sk-label sk-toggleable\"><input class=\"sk-toggleable__control sk-hidden--visually\" id=\"sk-estimator-id-1\" type=\"checkbox\" ><label for=\"sk-estimator-id-1\" class=\"sk-toggleable__label sk-toggleable__label-arrow\">GridSearchCV</label><div class=\"sk-toggleable__content\"><pre>GridSearchCV(cv=5, estimator=DecisionTreeClassifier(),\n",
              "             param_grid={&#x27;criterion&#x27;: [&#x27;gini&#x27;, &#x27;entropy&#x27;, &#x27;log_losss&#x27;],\n",
              "                         &#x27;max_depth&#x27;: [1, 2, 3, 4, 5],\n",
              "                         &#x27;max_features&#x27;: [&#x27;auto&#x27;, &#x27;sqrt&#x27;, &#x27;log2&#x27;],\n",
              "                         &#x27;splitter&#x27;: [&#x27;best&#x27;, &#x27;random&#x27;]},\n",
              "             scoring=&#x27;accuracy&#x27;, verbose=3)</pre></div></div></div><div class=\"sk-parallel\"><div class=\"sk-parallel-item\"><div class=\"sk-item\"><div class=\"sk-label-container\"><div class=\"sk-label sk-toggleable\"><input class=\"sk-toggleable__control sk-hidden--visually\" id=\"sk-estimator-id-2\" type=\"checkbox\" ><label for=\"sk-estimator-id-2\" class=\"sk-toggleable__label sk-toggleable__label-arrow\">estimator: DecisionTreeClassifier</label><div class=\"sk-toggleable__content\"><pre>DecisionTreeClassifier()</pre></div></div></div><div class=\"sk-serial\"><div class=\"sk-item\"><div class=\"sk-estimator sk-toggleable\"><input class=\"sk-toggleable__control sk-hidden--visually\" id=\"sk-estimator-id-3\" type=\"checkbox\" ><label for=\"sk-estimator-id-3\" class=\"sk-toggleable__label sk-toggleable__label-arrow\">DecisionTreeClassifier</label><div class=\"sk-toggleable__content\"><pre>DecisionTreeClassifier()</pre></div></div></div></div></div></div></div></div></div></div>"
            ]
          },
          "metadata": {},
          "execution_count": 17
        }
      ]
    },
    {
      "cell_type": "code",
      "source": [
        "clf.best_params_"
      ],
      "metadata": {
        "colab": {
          "base_uri": "https://localhost:8080/"
        },
        "id": "0ixFb6gMj9yS",
        "outputId": "8119e067-f5c4-4f32-b08d-149501f66fec"
      },
      "execution_count": null,
      "outputs": [
        {
          "output_type": "execute_result",
          "data": {
            "text/plain": [
              "{'criterion': 'entropy',\n",
              " 'max_depth': 4,\n",
              " 'max_features': 'log2',\n",
              " 'splitter': 'best'}"
            ]
          },
          "metadata": {},
          "execution_count": 18
        }
      ]
    },
    {
      "cell_type": "code",
      "source": [
        "classifier = DecisionTreeClassifier(criterion='gini',max_depth=5,max_features='sqrt',splitter='random')"
      ],
      "metadata": {
        "id": "Gu-ShK8CkBlg"
      },
      "execution_count": null,
      "outputs": []
    },
    {
      "cell_type": "code",
      "source": [
        "classifier.fit(X_train,y_train)"
      ],
      "metadata": {
        "colab": {
          "base_uri": "https://localhost:8080/",
          "height": 74
        },
        "id": "yHGUL1QkkZzQ",
        "outputId": "e7b6124c-f23e-4db0-de89-b1eefdf97feb"
      },
      "execution_count": null,
      "outputs": [
        {
          "output_type": "execute_result",
          "data": {
            "text/plain": [
              "DecisionTreeClassifier(max_depth=5, max_features='sqrt', splitter='random')"
            ],
            "text/html": [
              "<style>#sk-container-id-2 {color: black;background-color: white;}#sk-container-id-2 pre{padding: 0;}#sk-container-id-2 div.sk-toggleable {background-color: white;}#sk-container-id-2 label.sk-toggleable__label {cursor: pointer;display: block;width: 100%;margin-bottom: 0;padding: 0.3em;box-sizing: border-box;text-align: center;}#sk-container-id-2 label.sk-toggleable__label-arrow:before {content: \"▸\";float: left;margin-right: 0.25em;color: #696969;}#sk-container-id-2 label.sk-toggleable__label-arrow:hover:before {color: black;}#sk-container-id-2 div.sk-estimator:hover label.sk-toggleable__label-arrow:before {color: black;}#sk-container-id-2 div.sk-toggleable__content {max-height: 0;max-width: 0;overflow: hidden;text-align: left;background-color: #f0f8ff;}#sk-container-id-2 div.sk-toggleable__content pre {margin: 0.2em;color: black;border-radius: 0.25em;background-color: #f0f8ff;}#sk-container-id-2 input.sk-toggleable__control:checked~div.sk-toggleable__content {max-height: 200px;max-width: 100%;overflow: auto;}#sk-container-id-2 input.sk-toggleable__control:checked~label.sk-toggleable__label-arrow:before {content: \"▾\";}#sk-container-id-2 div.sk-estimator input.sk-toggleable__control:checked~label.sk-toggleable__label {background-color: #d4ebff;}#sk-container-id-2 div.sk-label input.sk-toggleable__control:checked~label.sk-toggleable__label {background-color: #d4ebff;}#sk-container-id-2 input.sk-hidden--visually {border: 0;clip: rect(1px 1px 1px 1px);clip: rect(1px, 1px, 1px, 1px);height: 1px;margin: -1px;overflow: hidden;padding: 0;position: absolute;width: 1px;}#sk-container-id-2 div.sk-estimator {font-family: monospace;background-color: #f0f8ff;border: 1px dotted black;border-radius: 0.25em;box-sizing: border-box;margin-bottom: 0.5em;}#sk-container-id-2 div.sk-estimator:hover {background-color: #d4ebff;}#sk-container-id-2 div.sk-parallel-item::after {content: \"\";width: 100%;border-bottom: 1px solid gray;flex-grow: 1;}#sk-container-id-2 div.sk-label:hover label.sk-toggleable__label {background-color: #d4ebff;}#sk-container-id-2 div.sk-serial::before {content: \"\";position: absolute;border-left: 1px solid gray;box-sizing: border-box;top: 0;bottom: 0;left: 50%;z-index: 0;}#sk-container-id-2 div.sk-serial {display: flex;flex-direction: column;align-items: center;background-color: white;padding-right: 0.2em;padding-left: 0.2em;position: relative;}#sk-container-id-2 div.sk-item {position: relative;z-index: 1;}#sk-container-id-2 div.sk-parallel {display: flex;align-items: stretch;justify-content: center;background-color: white;position: relative;}#sk-container-id-2 div.sk-item::before, #sk-container-id-2 div.sk-parallel-item::before {content: \"\";position: absolute;border-left: 1px solid gray;box-sizing: border-box;top: 0;bottom: 0;left: 50%;z-index: -1;}#sk-container-id-2 div.sk-parallel-item {display: flex;flex-direction: column;z-index: 1;position: relative;background-color: white;}#sk-container-id-2 div.sk-parallel-item:first-child::after {align-self: flex-end;width: 50%;}#sk-container-id-2 div.sk-parallel-item:last-child::after {align-self: flex-start;width: 50%;}#sk-container-id-2 div.sk-parallel-item:only-child::after {width: 0;}#sk-container-id-2 div.sk-dashed-wrapped {border: 1px dashed gray;margin: 0 0.4em 0.5em 0.4em;box-sizing: border-box;padding-bottom: 0.4em;background-color: white;}#sk-container-id-2 div.sk-label label {font-family: monospace;font-weight: bold;display: inline-block;line-height: 1.2em;}#sk-container-id-2 div.sk-label-container {text-align: center;}#sk-container-id-2 div.sk-container {/* jupyter's `normalize.less` sets `[hidden] { display: none; }` but bootstrap.min.css set `[hidden] { display: none !important; }` so we also need the `!important` here to be able to override the default hidden behavior on the sphinx rendered scikit-learn.org. See: https://github.com/scikit-learn/scikit-learn/issues/21755 */display: inline-block !important;position: relative;}#sk-container-id-2 div.sk-text-repr-fallback {display: none;}</style><div id=\"sk-container-id-2\" class=\"sk-top-container\"><div class=\"sk-text-repr-fallback\"><pre>DecisionTreeClassifier(max_depth=5, max_features=&#x27;sqrt&#x27;, splitter=&#x27;random&#x27;)</pre><b>In a Jupyter environment, please rerun this cell to show the HTML representation or trust the notebook. <br />On GitHub, the HTML representation is unable to render, please try loading this page with nbviewer.org.</b></div><div class=\"sk-container\" hidden><div class=\"sk-item\"><div class=\"sk-estimator sk-toggleable\"><input class=\"sk-toggleable__control sk-hidden--visually\" id=\"sk-estimator-id-4\" type=\"checkbox\" checked><label for=\"sk-estimator-id-4\" class=\"sk-toggleable__label sk-toggleable__label-arrow\">DecisionTreeClassifier</label><div class=\"sk-toggleable__content\"><pre>DecisionTreeClassifier(max_depth=5, max_features=&#x27;sqrt&#x27;, splitter=&#x27;random&#x27;)</pre></div></div></div></div></div>"
            ]
          },
          "metadata": {},
          "execution_count": 20
        }
      ]
    },
    {
      "cell_type": "code",
      "source": [
        "y_pred = classifier.predict(X_test)"
      ],
      "metadata": {
        "id": "TMNG4-RilJk4"
      },
      "execution_count": null,
      "outputs": []
    },
    {
      "cell_type": "code",
      "source": [
        "conf_mat = confusion_matrix(y_test,y_pred)"
      ],
      "metadata": {
        "id": "ee60mYr6lORk"
      },
      "execution_count": null,
      "outputs": []
    },
    {
      "cell_type": "code",
      "source": [
        "true_positive = conf_mat[0][0]\n",
        "false_positive = conf_mat[0][1]\n",
        "false_negative =conf_mat[1][0]\n",
        "true_negative = conf_mat[1][1]"
      ],
      "metadata": {
        "id": "xiT687pgnSL0"
      },
      "execution_count": null,
      "outputs": []
    },
    {
      "cell_type": "code",
      "source": [
        "accuracy = (true_positive+true_negative)/(true_positive+false_positive+false_negative+true_negative)"
      ],
      "metadata": {
        "id": "DtEfe_qCnkEH"
      },
      "execution_count": null,
      "outputs": []
    },
    {
      "cell_type": "code",
      "source": [
        "accuracy"
      ],
      "metadata": {
        "colab": {
          "base_uri": "https://localhost:8080/"
        },
        "id": "f3v0njBbnzWb",
        "outputId": "fa96e7b1-3aa4-4426-ffaf-8522666cf417"
      },
      "execution_count": null,
      "outputs": [
        {
          "output_type": "execute_result",
          "data": {
            "text/plain": [
              "0.703125"
            ]
          },
          "metadata": {},
          "execution_count": 25
        }
      ]
    },
    {
      "cell_type": "code",
      "source": [
        "precision = true_positive/(true_positive+false_positive)"
      ],
      "metadata": {
        "id": "ZZ5ISSz2n0Qc"
      },
      "execution_count": null,
      "outputs": []
    },
    {
      "cell_type": "code",
      "source": [
        "precision"
      ],
      "metadata": {
        "colab": {
          "base_uri": "https://localhost:8080/"
        },
        "id": "ZjZj9Fzgn7sd",
        "outputId": "504ae903-768f-4f2e-ba0e-a517a0ecac7c"
      },
      "execution_count": null,
      "outputs": [
        {
          "output_type": "execute_result",
          "data": {
            "text/plain": [
              "0.8846153846153846"
            ]
          },
          "metadata": {},
          "execution_count": 27
        }
      ]
    },
    {
      "cell_type": "code",
      "source": [
        "recall  = true_positive/(true_positive+false_negative)"
      ],
      "metadata": {
        "id": "XaGnYTCvn8Vy"
      },
      "execution_count": null,
      "outputs": []
    },
    {
      "cell_type": "code",
      "source": [
        "recall"
      ],
      "metadata": {
        "colab": {
          "base_uri": "https://localhost:8080/"
        },
        "id": "vEXGfngaoGS1",
        "outputId": "52d3d50d-037a-4740-c372-12754b7d93a7"
      },
      "execution_count": null,
      "outputs": [
        {
          "output_type": "execute_result",
          "data": {
            "text/plain": [
              "0.732484076433121"
            ]
          },
          "metadata": {},
          "execution_count": 29
        }
      ]
    },
    {
      "cell_type": "code",
      "source": [
        "f1_score = 2*(recall*precision)/(recall + precision)\n",
        "f1_score"
      ],
      "metadata": {
        "colab": {
          "base_uri": "https://localhost:8080/"
        },
        "id": "HxQDEp-coIRI",
        "outputId": "cdd70940-cb25-44df-bc9d-5c64db1f8570"
      },
      "execution_count": null,
      "outputs": [
        {
          "output_type": "execute_result",
          "data": {
            "text/plain": [
              "0.8013937282229965"
            ]
          },
          "metadata": {},
          "execution_count": 30
        }
      ]
    },
    {
      "cell_type": "markdown",
      "source": [
        "Support Vector Classifier"
      ],
      "metadata": {
        "id": "vN6REhhCquHr"
      }
    },
    {
      "cell_type": "code",
      "source": [
        "param_grid = {\n",
        "    'C':[0.1,1,10,100,1000],\n",
        "    'gamma':[1,0.1,0.01,0.001,0.001],\n",
        "    'kernel':['linear','rbf','polynomial']\n",
        "}"
      ],
      "metadata": {
        "id": "N4en5y9rqeFx"
      },
      "execution_count": null,
      "outputs": []
    },
    {
      "cell_type": "code",
      "source": [
        "grid = GridSearchCV(SVC(),param_grid=param_grid,refit=True,cv=3,verbose=3,scoring='accuracy')\n",
        "grid.fit(X_train,y_train)"
      ],
      "metadata": {
        "colab": {
          "base_uri": "https://localhost:8080/",
          "height": 1000
        },
        "id": "-9e0DqZ4rA_g",
        "outputId": "32cd3588-7083-4028-ba65-2180f0794e53"
      },
      "execution_count": null,
      "outputs": [
        {
          "output_type": "stream",
          "name": "stdout",
          "text": [
            "Fitting 3 folds for each of 75 candidates, totalling 225 fits\n",
            "[CV 1/3] END .....C=0.1, gamma=1, kernel=linear;, score=0.760 total time=   0.4s\n",
            "[CV 2/3] END .....C=0.1, gamma=1, kernel=linear;, score=0.771 total time=   0.3s\n",
            "[CV 3/3] END .....C=0.1, gamma=1, kernel=linear;, score=0.750 total time=   0.1s\n",
            "[CV 1/3] END ........C=0.1, gamma=1, kernel=rbf;, score=0.646 total time=   0.0s\n",
            "[CV 2/3] END ........C=0.1, gamma=1, kernel=rbf;, score=0.641 total time=   0.0s\n",
            "[CV 3/3] END ........C=0.1, gamma=1, kernel=rbf;, score=0.641 total time=   0.0s\n",
            "[CV 1/3] END ...C=0.1, gamma=1, kernel=polynomial;, score=nan total time=   0.0s\n",
            "[CV 2/3] END ...C=0.1, gamma=1, kernel=polynomial;, score=nan total time=   0.0s\n",
            "[CV 3/3] END ...C=0.1, gamma=1, kernel=polynomial;, score=nan total time=   0.0s\n",
            "[CV 1/3] END ...C=0.1, gamma=0.1, kernel=linear;, score=0.760 total time=   0.4s\n",
            "[CV 2/3] END ...C=0.1, gamma=0.1, kernel=linear;, score=0.771 total time=   0.3s\n",
            "[CV 3/3] END ...C=0.1, gamma=0.1, kernel=linear;, score=0.750 total time=   0.1s\n",
            "[CV 1/3] END ......C=0.1, gamma=0.1, kernel=rbf;, score=0.646 total time=   0.0s\n",
            "[CV 2/3] END ......C=0.1, gamma=0.1, kernel=rbf;, score=0.641 total time=   0.0s\n",
            "[CV 3/3] END ......C=0.1, gamma=0.1, kernel=rbf;, score=0.641 total time=   0.0s\n",
            "[CV 1/3] END .C=0.1, gamma=0.1, kernel=polynomial;, score=nan total time=   0.0s\n",
            "[CV 2/3] END .C=0.1, gamma=0.1, kernel=polynomial;, score=nan total time=   0.0s\n",
            "[CV 3/3] END .C=0.1, gamma=0.1, kernel=polynomial;, score=nan total time=   0.0s\n",
            "[CV 1/3] END ..C=0.1, gamma=0.01, kernel=linear;, score=0.760 total time=   0.4s\n",
            "[CV 2/3] END ..C=0.1, gamma=0.01, kernel=linear;, score=0.771 total time=   0.5s\n",
            "[CV 3/3] END ..C=0.1, gamma=0.01, kernel=linear;, score=0.750 total time=   0.2s\n",
            "[CV 1/3] END .....C=0.1, gamma=0.01, kernel=rbf;, score=0.646 total time=   0.0s\n",
            "[CV 2/3] END .....C=0.1, gamma=0.01, kernel=rbf;, score=0.641 total time=   0.0s\n",
            "[CV 3/3] END .....C=0.1, gamma=0.01, kernel=rbf;, score=0.641 total time=   0.0s\n",
            "[CV 1/3] END C=0.1, gamma=0.01, kernel=polynomial;, score=nan total time=   0.0s\n",
            "[CV 2/3] END C=0.1, gamma=0.01, kernel=polynomial;, score=nan total time=   0.0s\n",
            "[CV 3/3] END C=0.1, gamma=0.01, kernel=polynomial;, score=nan total time=   0.0s\n",
            "[CV 1/3] END .C=0.1, gamma=0.001, kernel=linear;, score=0.760 total time=   0.6s\n",
            "[CV 2/3] END .C=0.1, gamma=0.001, kernel=linear;, score=0.771 total time=   0.5s\n",
            "[CV 3/3] END .C=0.1, gamma=0.001, kernel=linear;, score=0.750 total time=   0.2s\n",
            "[CV 1/3] END ....C=0.1, gamma=0.001, kernel=rbf;, score=0.667 total time=   0.0s\n",
            "[CV 2/3] END ....C=0.1, gamma=0.001, kernel=rbf;, score=0.677 total time=   0.0s\n",
            "[CV 3/3] END ....C=0.1, gamma=0.001, kernel=rbf;, score=0.672 total time=   0.0s\n",
            "[CV 1/3] END C=0.1, gamma=0.001, kernel=polynomial;, score=nan total time=   0.0s\n",
            "[CV 2/3] END C=0.1, gamma=0.001, kernel=polynomial;, score=nan total time=   0.0s\n",
            "[CV 3/3] END C=0.1, gamma=0.001, kernel=polynomial;, score=nan total time=   0.0s\n",
            "[CV 1/3] END .C=0.1, gamma=0.001, kernel=linear;, score=0.760 total time=   0.6s\n",
            "[CV 2/3] END .C=0.1, gamma=0.001, kernel=linear;, score=0.771 total time=   0.5s\n",
            "[CV 3/3] END .C=0.1, gamma=0.001, kernel=linear;, score=0.750 total time=   0.1s\n",
            "[CV 1/3] END ....C=0.1, gamma=0.001, kernel=rbf;, score=0.667 total time=   0.0s\n",
            "[CV 2/3] END ....C=0.1, gamma=0.001, kernel=rbf;, score=0.677 total time=   0.0s\n",
            "[CV 3/3] END ....C=0.1, gamma=0.001, kernel=rbf;, score=0.672 total time=   0.0s\n",
            "[CV 1/3] END C=0.1, gamma=0.001, kernel=polynomial;, score=nan total time=   0.0s\n",
            "[CV 2/3] END C=0.1, gamma=0.001, kernel=polynomial;, score=nan total time=   0.0s\n",
            "[CV 3/3] END C=0.1, gamma=0.001, kernel=polynomial;, score=nan total time=   0.0s\n",
            "[CV 1/3] END .......C=1, gamma=1, kernel=linear;, score=0.776 total time=   1.8s\n",
            "[CV 2/3] END .......C=1, gamma=1, kernel=linear;, score=0.771 total time=   1.0s\n",
            "[CV 3/3] END .......C=1, gamma=1, kernel=linear;, score=0.740 total time=   0.7s\n",
            "[CV 1/3] END ..........C=1, gamma=1, kernel=rbf;, score=0.646 total time=   0.0s\n",
            "[CV 2/3] END ..........C=1, gamma=1, kernel=rbf;, score=0.641 total time=   0.0s\n",
            "[CV 3/3] END ..........C=1, gamma=1, kernel=rbf;, score=0.641 total time=   0.0s\n",
            "[CV 1/3] END .....C=1, gamma=1, kernel=polynomial;, score=nan total time=   0.0s\n",
            "[CV 2/3] END .....C=1, gamma=1, kernel=polynomial;, score=nan total time=   0.0s\n",
            "[CV 3/3] END .....C=1, gamma=1, kernel=polynomial;, score=nan total time=   0.0s\n",
            "[CV 1/3] END .....C=1, gamma=0.1, kernel=linear;, score=0.776 total time=   1.9s\n",
            "[CV 2/3] END .....C=1, gamma=0.1, kernel=linear;, score=0.771 total time=   1.0s\n",
            "[CV 3/3] END .....C=1, gamma=0.1, kernel=linear;, score=0.740 total time=   0.7s\n",
            "[CV 1/3] END ........C=1, gamma=0.1, kernel=rbf;, score=0.646 total time=   0.0s\n",
            "[CV 2/3] END ........C=1, gamma=0.1, kernel=rbf;, score=0.641 total time=   0.0s\n",
            "[CV 3/3] END ........C=1, gamma=0.1, kernel=rbf;, score=0.641 total time=   0.0s\n",
            "[CV 1/3] END ...C=1, gamma=0.1, kernel=polynomial;, score=nan total time=   0.0s\n",
            "[CV 2/3] END ...C=1, gamma=0.1, kernel=polynomial;, score=nan total time=   0.0s\n",
            "[CV 3/3] END ...C=1, gamma=0.1, kernel=polynomial;, score=nan total time=   0.0s\n",
            "[CV 1/3] END ....C=1, gamma=0.01, kernel=linear;, score=0.776 total time=   1.8s\n",
            "[CV 2/3] END ....C=1, gamma=0.01, kernel=linear;, score=0.771 total time=   1.3s\n",
            "[CV 3/3] END ....C=1, gamma=0.01, kernel=linear;, score=0.740 total time=   1.3s\n",
            "[CV 1/3] END .......C=1, gamma=0.01, kernel=rbf;, score=0.656 total time=   0.0s\n",
            "[CV 2/3] END .......C=1, gamma=0.01, kernel=rbf;, score=0.667 total time=   0.0s\n",
            "[CV 3/3] END .......C=1, gamma=0.01, kernel=rbf;, score=0.656 total time=   0.0s\n",
            "[CV 1/3] END ..C=1, gamma=0.01, kernel=polynomial;, score=nan total time=   0.0s\n",
            "[CV 2/3] END ..C=1, gamma=0.01, kernel=polynomial;, score=nan total time=   0.0s\n",
            "[CV 3/3] END ..C=1, gamma=0.01, kernel=polynomial;, score=nan total time=   0.0s\n",
            "[CV 1/3] END ...C=1, gamma=0.001, kernel=linear;, score=0.776 total time=   3.0s\n",
            "[CV 2/3] END ...C=1, gamma=0.001, kernel=linear;, score=0.771 total time=   1.0s\n",
            "[CV 3/3] END ...C=1, gamma=0.001, kernel=linear;, score=0.740 total time=   0.7s\n",
            "[CV 1/3] END ......C=1, gamma=0.001, kernel=rbf;, score=0.719 total time=   0.0s\n",
            "[CV 2/3] END ......C=1, gamma=0.001, kernel=rbf;, score=0.724 total time=   0.0s\n",
            "[CV 3/3] END ......C=1, gamma=0.001, kernel=rbf;, score=0.724 total time=   0.0s\n",
            "[CV 1/3] END .C=1, gamma=0.001, kernel=polynomial;, score=nan total time=   0.0s\n",
            "[CV 2/3] END .C=1, gamma=0.001, kernel=polynomial;, score=nan total time=   0.0s\n",
            "[CV 3/3] END .C=1, gamma=0.001, kernel=polynomial;, score=nan total time=   0.0s\n",
            "[CV 1/3] END ...C=1, gamma=0.001, kernel=linear;, score=0.776 total time=   1.8s\n",
            "[CV 2/3] END ...C=1, gamma=0.001, kernel=linear;, score=0.771 total time=   1.0s\n",
            "[CV 3/3] END ...C=1, gamma=0.001, kernel=linear;, score=0.740 total time=   0.7s\n",
            "[CV 1/3] END ......C=1, gamma=0.001, kernel=rbf;, score=0.719 total time=   0.0s\n",
            "[CV 2/3] END ......C=1, gamma=0.001, kernel=rbf;, score=0.724 total time=   0.0s\n",
            "[CV 3/3] END ......C=1, gamma=0.001, kernel=rbf;, score=0.724 total time=   0.0s\n",
            "[CV 1/3] END .C=1, gamma=0.001, kernel=polynomial;, score=nan total time=   0.0s\n",
            "[CV 2/3] END .C=1, gamma=0.001, kernel=polynomial;, score=nan total time=   0.0s\n",
            "[CV 3/3] END .C=1, gamma=0.001, kernel=polynomial;, score=nan total time=   0.0s\n"
          ]
        },
        {
          "output_type": "error",
          "ename": "KeyboardInterrupt",
          "evalue": "",
          "traceback": [
            "\u001b[0;31m---------------------------------------------------------------------------\u001b[0m",
            "\u001b[0;31mKeyboardInterrupt\u001b[0m                         Traceback (most recent call last)",
            "\u001b[0;32m<ipython-input-32-f72ec7276749>\u001b[0m in \u001b[0;36m<cell line: 2>\u001b[0;34m()\u001b[0m\n\u001b[1;32m      1\u001b[0m \u001b[0mgrid\u001b[0m \u001b[0;34m=\u001b[0m \u001b[0mGridSearchCV\u001b[0m\u001b[0;34m(\u001b[0m\u001b[0mSVC\u001b[0m\u001b[0;34m(\u001b[0m\u001b[0;34m)\u001b[0m\u001b[0;34m,\u001b[0m\u001b[0mparam_grid\u001b[0m\u001b[0;34m=\u001b[0m\u001b[0mparam_grid\u001b[0m\u001b[0;34m,\u001b[0m\u001b[0mrefit\u001b[0m\u001b[0;34m=\u001b[0m\u001b[0;32mTrue\u001b[0m\u001b[0;34m,\u001b[0m\u001b[0mcv\u001b[0m\u001b[0;34m=\u001b[0m\u001b[0;36m3\u001b[0m\u001b[0;34m,\u001b[0m\u001b[0mverbose\u001b[0m\u001b[0;34m=\u001b[0m\u001b[0;36m3\u001b[0m\u001b[0;34m,\u001b[0m\u001b[0mscoring\u001b[0m\u001b[0;34m=\u001b[0m\u001b[0;34m'accuracy'\u001b[0m\u001b[0;34m)\u001b[0m\u001b[0;34m\u001b[0m\u001b[0;34m\u001b[0m\u001b[0m\n\u001b[0;32m----> 2\u001b[0;31m \u001b[0mgrid\u001b[0m\u001b[0;34m.\u001b[0m\u001b[0mfit\u001b[0m\u001b[0;34m(\u001b[0m\u001b[0mX_train\u001b[0m\u001b[0;34m,\u001b[0m\u001b[0my_train\u001b[0m\u001b[0;34m)\u001b[0m\u001b[0;34m\u001b[0m\u001b[0;34m\u001b[0m\u001b[0m\n\u001b[0m",
            "\u001b[0;32m/usr/local/lib/python3.10/dist-packages/sklearn/model_selection/_search.py\u001b[0m in \u001b[0;36mfit\u001b[0;34m(self, X, y, groups, **fit_params)\u001b[0m\n\u001b[1;32m    872\u001b[0m                 \u001b[0;32mreturn\u001b[0m \u001b[0mresults\u001b[0m\u001b[0;34m\u001b[0m\u001b[0;34m\u001b[0m\u001b[0m\n\u001b[1;32m    873\u001b[0m \u001b[0;34m\u001b[0m\u001b[0m\n\u001b[0;32m--> 874\u001b[0;31m             \u001b[0mself\u001b[0m\u001b[0;34m.\u001b[0m\u001b[0m_run_search\u001b[0m\u001b[0;34m(\u001b[0m\u001b[0mevaluate_candidates\u001b[0m\u001b[0;34m)\u001b[0m\u001b[0;34m\u001b[0m\u001b[0;34m\u001b[0m\u001b[0m\n\u001b[0m\u001b[1;32m    875\u001b[0m \u001b[0;34m\u001b[0m\u001b[0m\n\u001b[1;32m    876\u001b[0m             \u001b[0;31m# multimetric is determined here because in the case of a callable\u001b[0m\u001b[0;34m\u001b[0m\u001b[0;34m\u001b[0m\u001b[0m\n",
            "\u001b[0;32m/usr/local/lib/python3.10/dist-packages/sklearn/model_selection/_search.py\u001b[0m in \u001b[0;36m_run_search\u001b[0;34m(self, evaluate_candidates)\u001b[0m\n\u001b[1;32m   1386\u001b[0m     \u001b[0;32mdef\u001b[0m \u001b[0m_run_search\u001b[0m\u001b[0;34m(\u001b[0m\u001b[0mself\u001b[0m\u001b[0;34m,\u001b[0m \u001b[0mevaluate_candidates\u001b[0m\u001b[0;34m)\u001b[0m\u001b[0;34m:\u001b[0m\u001b[0;34m\u001b[0m\u001b[0;34m\u001b[0m\u001b[0m\n\u001b[1;32m   1387\u001b[0m         \u001b[0;34m\"\"\"Search all candidates in param_grid\"\"\"\u001b[0m\u001b[0;34m\u001b[0m\u001b[0;34m\u001b[0m\u001b[0m\n\u001b[0;32m-> 1388\u001b[0;31m         \u001b[0mevaluate_candidates\u001b[0m\u001b[0;34m(\u001b[0m\u001b[0mParameterGrid\u001b[0m\u001b[0;34m(\u001b[0m\u001b[0mself\u001b[0m\u001b[0;34m.\u001b[0m\u001b[0mparam_grid\u001b[0m\u001b[0;34m)\u001b[0m\u001b[0;34m)\u001b[0m\u001b[0;34m\u001b[0m\u001b[0;34m\u001b[0m\u001b[0m\n\u001b[0m\u001b[1;32m   1389\u001b[0m \u001b[0;34m\u001b[0m\u001b[0m\n\u001b[1;32m   1390\u001b[0m \u001b[0;34m\u001b[0m\u001b[0m\n",
            "\u001b[0;32m/usr/local/lib/python3.10/dist-packages/sklearn/model_selection/_search.py\u001b[0m in \u001b[0;36mevaluate_candidates\u001b[0;34m(candidate_params, cv, more_results)\u001b[0m\n\u001b[1;32m    819\u001b[0m                     )\n\u001b[1;32m    820\u001b[0m \u001b[0;34m\u001b[0m\u001b[0m\n\u001b[0;32m--> 821\u001b[0;31m                 out = parallel(\n\u001b[0m\u001b[1;32m    822\u001b[0m                     delayed(_fit_and_score)(\n\u001b[1;32m    823\u001b[0m                         \u001b[0mclone\u001b[0m\u001b[0;34m(\u001b[0m\u001b[0mbase_estimator\u001b[0m\u001b[0;34m)\u001b[0m\u001b[0;34m,\u001b[0m\u001b[0;34m\u001b[0m\u001b[0;34m\u001b[0m\u001b[0m\n",
            "\u001b[0;32m/usr/local/lib/python3.10/dist-packages/sklearn/utils/parallel.py\u001b[0m in \u001b[0;36m__call__\u001b[0;34m(self, iterable)\u001b[0m\n\u001b[1;32m     61\u001b[0m             \u001b[0;32mfor\u001b[0m \u001b[0mdelayed_func\u001b[0m\u001b[0;34m,\u001b[0m \u001b[0margs\u001b[0m\u001b[0;34m,\u001b[0m \u001b[0mkwargs\u001b[0m \u001b[0;32min\u001b[0m \u001b[0miterable\u001b[0m\u001b[0;34m\u001b[0m\u001b[0;34m\u001b[0m\u001b[0m\n\u001b[1;32m     62\u001b[0m         )\n\u001b[0;32m---> 63\u001b[0;31m         \u001b[0;32mreturn\u001b[0m \u001b[0msuper\u001b[0m\u001b[0;34m(\u001b[0m\u001b[0;34m)\u001b[0m\u001b[0;34m.\u001b[0m\u001b[0m__call__\u001b[0m\u001b[0;34m(\u001b[0m\u001b[0miterable_with_config\u001b[0m\u001b[0;34m)\u001b[0m\u001b[0;34m\u001b[0m\u001b[0;34m\u001b[0m\u001b[0m\n\u001b[0m\u001b[1;32m     64\u001b[0m \u001b[0;34m\u001b[0m\u001b[0m\n\u001b[1;32m     65\u001b[0m \u001b[0;34m\u001b[0m\u001b[0m\n",
            "\u001b[0;32m/usr/local/lib/python3.10/dist-packages/joblib/parallel.py\u001b[0m in \u001b[0;36m__call__\u001b[0;34m(self, iterable)\u001b[0m\n\u001b[1;32m   1916\u001b[0m             \u001b[0moutput\u001b[0m \u001b[0;34m=\u001b[0m \u001b[0mself\u001b[0m\u001b[0;34m.\u001b[0m\u001b[0m_get_sequential_output\u001b[0m\u001b[0;34m(\u001b[0m\u001b[0miterable\u001b[0m\u001b[0;34m)\u001b[0m\u001b[0;34m\u001b[0m\u001b[0;34m\u001b[0m\u001b[0m\n\u001b[1;32m   1917\u001b[0m             \u001b[0mnext\u001b[0m\u001b[0;34m(\u001b[0m\u001b[0moutput\u001b[0m\u001b[0;34m)\u001b[0m\u001b[0;34m\u001b[0m\u001b[0;34m\u001b[0m\u001b[0m\n\u001b[0;32m-> 1918\u001b[0;31m             \u001b[0;32mreturn\u001b[0m \u001b[0moutput\u001b[0m \u001b[0;32mif\u001b[0m \u001b[0mself\u001b[0m\u001b[0;34m.\u001b[0m\u001b[0mreturn_generator\u001b[0m \u001b[0;32melse\u001b[0m \u001b[0mlist\u001b[0m\u001b[0;34m(\u001b[0m\u001b[0moutput\u001b[0m\u001b[0;34m)\u001b[0m\u001b[0;34m\u001b[0m\u001b[0;34m\u001b[0m\u001b[0m\n\u001b[0m\u001b[1;32m   1919\u001b[0m \u001b[0;34m\u001b[0m\u001b[0m\n\u001b[1;32m   1920\u001b[0m         \u001b[0;31m# Let's create an ID that uniquely identifies the current call. If the\u001b[0m\u001b[0;34m\u001b[0m\u001b[0;34m\u001b[0m\u001b[0m\n",
            "\u001b[0;32m/usr/local/lib/python3.10/dist-packages/joblib/parallel.py\u001b[0m in \u001b[0;36m_get_sequential_output\u001b[0;34m(self, iterable)\u001b[0m\n\u001b[1;32m   1845\u001b[0m                 \u001b[0mself\u001b[0m\u001b[0;34m.\u001b[0m\u001b[0mn_dispatched_batches\u001b[0m \u001b[0;34m+=\u001b[0m \u001b[0;36m1\u001b[0m\u001b[0;34m\u001b[0m\u001b[0;34m\u001b[0m\u001b[0m\n\u001b[1;32m   1846\u001b[0m                 \u001b[0mself\u001b[0m\u001b[0;34m.\u001b[0m\u001b[0mn_dispatched_tasks\u001b[0m \u001b[0;34m+=\u001b[0m \u001b[0;36m1\u001b[0m\u001b[0;34m\u001b[0m\u001b[0;34m\u001b[0m\u001b[0m\n\u001b[0;32m-> 1847\u001b[0;31m                 \u001b[0mres\u001b[0m \u001b[0;34m=\u001b[0m \u001b[0mfunc\u001b[0m\u001b[0;34m(\u001b[0m\u001b[0;34m*\u001b[0m\u001b[0margs\u001b[0m\u001b[0;34m,\u001b[0m \u001b[0;34m**\u001b[0m\u001b[0mkwargs\u001b[0m\u001b[0;34m)\u001b[0m\u001b[0;34m\u001b[0m\u001b[0;34m\u001b[0m\u001b[0m\n\u001b[0m\u001b[1;32m   1848\u001b[0m                 \u001b[0mself\u001b[0m\u001b[0;34m.\u001b[0m\u001b[0mn_completed_tasks\u001b[0m \u001b[0;34m+=\u001b[0m \u001b[0;36m1\u001b[0m\u001b[0;34m\u001b[0m\u001b[0;34m\u001b[0m\u001b[0m\n\u001b[1;32m   1849\u001b[0m                 \u001b[0mself\u001b[0m\u001b[0;34m.\u001b[0m\u001b[0mprint_progress\u001b[0m\u001b[0;34m(\u001b[0m\u001b[0;34m)\u001b[0m\u001b[0;34m\u001b[0m\u001b[0;34m\u001b[0m\u001b[0m\n",
            "\u001b[0;32m/usr/local/lib/python3.10/dist-packages/sklearn/utils/parallel.py\u001b[0m in \u001b[0;36m__call__\u001b[0;34m(self, *args, **kwargs)\u001b[0m\n\u001b[1;32m    121\u001b[0m             \u001b[0mconfig\u001b[0m \u001b[0;34m=\u001b[0m \u001b[0;34m{\u001b[0m\u001b[0;34m}\u001b[0m\u001b[0;34m\u001b[0m\u001b[0;34m\u001b[0m\u001b[0m\n\u001b[1;32m    122\u001b[0m         \u001b[0;32mwith\u001b[0m \u001b[0mconfig_context\u001b[0m\u001b[0;34m(\u001b[0m\u001b[0;34m**\u001b[0m\u001b[0mconfig\u001b[0m\u001b[0;34m)\u001b[0m\u001b[0;34m:\u001b[0m\u001b[0;34m\u001b[0m\u001b[0;34m\u001b[0m\u001b[0m\n\u001b[0;32m--> 123\u001b[0;31m             \u001b[0;32mreturn\u001b[0m \u001b[0mself\u001b[0m\u001b[0;34m.\u001b[0m\u001b[0mfunction\u001b[0m\u001b[0;34m(\u001b[0m\u001b[0;34m*\u001b[0m\u001b[0margs\u001b[0m\u001b[0;34m,\u001b[0m \u001b[0;34m**\u001b[0m\u001b[0mkwargs\u001b[0m\u001b[0;34m)\u001b[0m\u001b[0;34m\u001b[0m\u001b[0;34m\u001b[0m\u001b[0m\n\u001b[0m",
            "\u001b[0;32m/usr/local/lib/python3.10/dist-packages/sklearn/model_selection/_validation.py\u001b[0m in \u001b[0;36m_fit_and_score\u001b[0;34m(estimator, X, y, scorer, train, test, verbose, parameters, fit_params, return_train_score, return_parameters, return_n_test_samples, return_times, return_estimator, split_progress, candidate_progress, error_score)\u001b[0m\n\u001b[1;32m    684\u001b[0m             \u001b[0mestimator\u001b[0m\u001b[0;34m.\u001b[0m\u001b[0mfit\u001b[0m\u001b[0;34m(\u001b[0m\u001b[0mX_train\u001b[0m\u001b[0;34m,\u001b[0m \u001b[0;34m**\u001b[0m\u001b[0mfit_params\u001b[0m\u001b[0;34m)\u001b[0m\u001b[0;34m\u001b[0m\u001b[0;34m\u001b[0m\u001b[0m\n\u001b[1;32m    685\u001b[0m         \u001b[0;32melse\u001b[0m\u001b[0;34m:\u001b[0m\u001b[0;34m\u001b[0m\u001b[0;34m\u001b[0m\u001b[0m\n\u001b[0;32m--> 686\u001b[0;31m             \u001b[0mestimator\u001b[0m\u001b[0;34m.\u001b[0m\u001b[0mfit\u001b[0m\u001b[0;34m(\u001b[0m\u001b[0mX_train\u001b[0m\u001b[0;34m,\u001b[0m \u001b[0my_train\u001b[0m\u001b[0;34m,\u001b[0m \u001b[0;34m**\u001b[0m\u001b[0mfit_params\u001b[0m\u001b[0;34m)\u001b[0m\u001b[0;34m\u001b[0m\u001b[0;34m\u001b[0m\u001b[0m\n\u001b[0m\u001b[1;32m    687\u001b[0m \u001b[0;34m\u001b[0m\u001b[0m\n\u001b[1;32m    688\u001b[0m     \u001b[0;32mexcept\u001b[0m \u001b[0mException\u001b[0m\u001b[0;34m:\u001b[0m\u001b[0;34m\u001b[0m\u001b[0;34m\u001b[0m\u001b[0m\n",
            "\u001b[0;32m/usr/local/lib/python3.10/dist-packages/sklearn/svm/_base.py\u001b[0m in \u001b[0;36mfit\u001b[0;34m(self, X, y, sample_weight)\u001b[0m\n\u001b[1;32m    250\u001b[0m \u001b[0;34m\u001b[0m\u001b[0m\n\u001b[1;32m    251\u001b[0m         \u001b[0mseed\u001b[0m \u001b[0;34m=\u001b[0m \u001b[0mrnd\u001b[0m\u001b[0;34m.\u001b[0m\u001b[0mrandint\u001b[0m\u001b[0;34m(\u001b[0m\u001b[0mnp\u001b[0m\u001b[0;34m.\u001b[0m\u001b[0miinfo\u001b[0m\u001b[0;34m(\u001b[0m\u001b[0;34m\"i\"\u001b[0m\u001b[0;34m)\u001b[0m\u001b[0;34m.\u001b[0m\u001b[0mmax\u001b[0m\u001b[0;34m)\u001b[0m\u001b[0;34m\u001b[0m\u001b[0;34m\u001b[0m\u001b[0m\n\u001b[0;32m--> 252\u001b[0;31m         \u001b[0mfit\u001b[0m\u001b[0;34m(\u001b[0m\u001b[0mX\u001b[0m\u001b[0;34m,\u001b[0m \u001b[0my\u001b[0m\u001b[0;34m,\u001b[0m \u001b[0msample_weight\u001b[0m\u001b[0;34m,\u001b[0m \u001b[0msolver_type\u001b[0m\u001b[0;34m,\u001b[0m \u001b[0mkernel\u001b[0m\u001b[0;34m,\u001b[0m \u001b[0mrandom_seed\u001b[0m\u001b[0;34m=\u001b[0m\u001b[0mseed\u001b[0m\u001b[0;34m)\u001b[0m\u001b[0;34m\u001b[0m\u001b[0;34m\u001b[0m\u001b[0m\n\u001b[0m\u001b[1;32m    253\u001b[0m         \u001b[0;31m# see comment on the other call to np.iinfo in this file\u001b[0m\u001b[0;34m\u001b[0m\u001b[0;34m\u001b[0m\u001b[0m\n\u001b[1;32m    254\u001b[0m \u001b[0;34m\u001b[0m\u001b[0m\n",
            "\u001b[0;32m/usr/local/lib/python3.10/dist-packages/sklearn/svm/_base.py\u001b[0m in \u001b[0;36m_dense_fit\u001b[0;34m(self, X, y, sample_weight, solver_type, kernel, random_seed)\u001b[0m\n\u001b[1;32m    329\u001b[0m             \u001b[0mself\u001b[0m\u001b[0;34m.\u001b[0m\u001b[0mfit_status_\u001b[0m\u001b[0;34m,\u001b[0m\u001b[0;34m\u001b[0m\u001b[0;34m\u001b[0m\u001b[0m\n\u001b[1;32m    330\u001b[0m             \u001b[0mself\u001b[0m\u001b[0;34m.\u001b[0m\u001b[0m_num_iter\u001b[0m\u001b[0;34m,\u001b[0m\u001b[0;34m\u001b[0m\u001b[0;34m\u001b[0m\u001b[0m\n\u001b[0;32m--> 331\u001b[0;31m         \u001b[0;34m)\u001b[0m \u001b[0;34m=\u001b[0m \u001b[0mlibsvm\u001b[0m\u001b[0;34m.\u001b[0m\u001b[0mfit\u001b[0m\u001b[0;34m(\u001b[0m\u001b[0;34m\u001b[0m\u001b[0;34m\u001b[0m\u001b[0m\n\u001b[0m\u001b[1;32m    332\u001b[0m             \u001b[0mX\u001b[0m\u001b[0;34m,\u001b[0m\u001b[0;34m\u001b[0m\u001b[0;34m\u001b[0m\u001b[0m\n\u001b[1;32m    333\u001b[0m             \u001b[0my\u001b[0m\u001b[0;34m,\u001b[0m\u001b[0;34m\u001b[0m\u001b[0;34m\u001b[0m\u001b[0m\n",
            "\u001b[0;31mKeyboardInterrupt\u001b[0m: "
          ]
        }
      ]
    },
    {
      "cell_type": "code",
      "source": [],
      "metadata": {
        "id": "IaF0y35zrOuS"
      },
      "execution_count": null,
      "outputs": []
    },
    {
      "cell_type": "code",
      "source": [
        "svc_clf = SVC(C=0.1,gamma=1,kernel='linear')\n",
        "svc_clf.fit(X_train_scaled,y_train)"
      ],
      "metadata": {
        "colab": {
          "base_uri": "https://localhost:8080/",
          "height": 74
        },
        "id": "rw_nDC39vew7",
        "outputId": "cac12965-5edd-4028-a983-7079f07f1853"
      },
      "execution_count": null,
      "outputs": [
        {
          "output_type": "execute_result",
          "data": {
            "text/plain": [
              "SVC(C=0.1, gamma=1, kernel='linear')"
            ],
            "text/html": [
              "<style>#sk-container-id-3 {color: black;background-color: white;}#sk-container-id-3 pre{padding: 0;}#sk-container-id-3 div.sk-toggleable {background-color: white;}#sk-container-id-3 label.sk-toggleable__label {cursor: pointer;display: block;width: 100%;margin-bottom: 0;padding: 0.3em;box-sizing: border-box;text-align: center;}#sk-container-id-3 label.sk-toggleable__label-arrow:before {content: \"▸\";float: left;margin-right: 0.25em;color: #696969;}#sk-container-id-3 label.sk-toggleable__label-arrow:hover:before {color: black;}#sk-container-id-3 div.sk-estimator:hover label.sk-toggleable__label-arrow:before {color: black;}#sk-container-id-3 div.sk-toggleable__content {max-height: 0;max-width: 0;overflow: hidden;text-align: left;background-color: #f0f8ff;}#sk-container-id-3 div.sk-toggleable__content pre {margin: 0.2em;color: black;border-radius: 0.25em;background-color: #f0f8ff;}#sk-container-id-3 input.sk-toggleable__control:checked~div.sk-toggleable__content {max-height: 200px;max-width: 100%;overflow: auto;}#sk-container-id-3 input.sk-toggleable__control:checked~label.sk-toggleable__label-arrow:before {content: \"▾\";}#sk-container-id-3 div.sk-estimator input.sk-toggleable__control:checked~label.sk-toggleable__label {background-color: #d4ebff;}#sk-container-id-3 div.sk-label input.sk-toggleable__control:checked~label.sk-toggleable__label {background-color: #d4ebff;}#sk-container-id-3 input.sk-hidden--visually {border: 0;clip: rect(1px 1px 1px 1px);clip: rect(1px, 1px, 1px, 1px);height: 1px;margin: -1px;overflow: hidden;padding: 0;position: absolute;width: 1px;}#sk-container-id-3 div.sk-estimator {font-family: monospace;background-color: #f0f8ff;border: 1px dotted black;border-radius: 0.25em;box-sizing: border-box;margin-bottom: 0.5em;}#sk-container-id-3 div.sk-estimator:hover {background-color: #d4ebff;}#sk-container-id-3 div.sk-parallel-item::after {content: \"\";width: 100%;border-bottom: 1px solid gray;flex-grow: 1;}#sk-container-id-3 div.sk-label:hover label.sk-toggleable__label {background-color: #d4ebff;}#sk-container-id-3 div.sk-serial::before {content: \"\";position: absolute;border-left: 1px solid gray;box-sizing: border-box;top: 0;bottom: 0;left: 50%;z-index: 0;}#sk-container-id-3 div.sk-serial {display: flex;flex-direction: column;align-items: center;background-color: white;padding-right: 0.2em;padding-left: 0.2em;position: relative;}#sk-container-id-3 div.sk-item {position: relative;z-index: 1;}#sk-container-id-3 div.sk-parallel {display: flex;align-items: stretch;justify-content: center;background-color: white;position: relative;}#sk-container-id-3 div.sk-item::before, #sk-container-id-3 div.sk-parallel-item::before {content: \"\";position: absolute;border-left: 1px solid gray;box-sizing: border-box;top: 0;bottom: 0;left: 50%;z-index: -1;}#sk-container-id-3 div.sk-parallel-item {display: flex;flex-direction: column;z-index: 1;position: relative;background-color: white;}#sk-container-id-3 div.sk-parallel-item:first-child::after {align-self: flex-end;width: 50%;}#sk-container-id-3 div.sk-parallel-item:last-child::after {align-self: flex-start;width: 50%;}#sk-container-id-3 div.sk-parallel-item:only-child::after {width: 0;}#sk-container-id-3 div.sk-dashed-wrapped {border: 1px dashed gray;margin: 0 0.4em 0.5em 0.4em;box-sizing: border-box;padding-bottom: 0.4em;background-color: white;}#sk-container-id-3 div.sk-label label {font-family: monospace;font-weight: bold;display: inline-block;line-height: 1.2em;}#sk-container-id-3 div.sk-label-container {text-align: center;}#sk-container-id-3 div.sk-container {/* jupyter's `normalize.less` sets `[hidden] { display: none; }` but bootstrap.min.css set `[hidden] { display: none !important; }` so we also need the `!important` here to be able to override the default hidden behavior on the sphinx rendered scikit-learn.org. See: https://github.com/scikit-learn/scikit-learn/issues/21755 */display: inline-block !important;position: relative;}#sk-container-id-3 div.sk-text-repr-fallback {display: none;}</style><div id=\"sk-container-id-3\" class=\"sk-top-container\"><div class=\"sk-text-repr-fallback\"><pre>SVC(C=0.1, gamma=1, kernel=&#x27;linear&#x27;)</pre><b>In a Jupyter environment, please rerun this cell to show the HTML representation or trust the notebook. <br />On GitHub, the HTML representation is unable to render, please try loading this page with nbviewer.org.</b></div><div class=\"sk-container\" hidden><div class=\"sk-item\"><div class=\"sk-estimator sk-toggleable\"><input class=\"sk-toggleable__control sk-hidden--visually\" id=\"sk-estimator-id-5\" type=\"checkbox\" checked><label for=\"sk-estimator-id-5\" class=\"sk-toggleable__label sk-toggleable__label-arrow\">SVC</label><div class=\"sk-toggleable__content\"><pre>SVC(C=0.1, gamma=1, kernel=&#x27;linear&#x27;)</pre></div></div></div></div></div>"
            ]
          },
          "metadata": {},
          "execution_count": 33
        }
      ]
    },
    {
      "cell_type": "code",
      "source": [
        "y_pred_svc = svc_clf.predict(X_test_scaled)"
      ],
      "metadata": {
        "id": "HEtTz3OzxzPr"
      },
      "execution_count": null,
      "outputs": []
    },
    {
      "cell_type": "code",
      "source": [
        "conf_mat = confusion_matrix(y_test,y_pred_svc)\n",
        "conf_mat"
      ],
      "metadata": {
        "colab": {
          "base_uri": "https://localhost:8080/"
        },
        "id": "IMORalOOx7po",
        "outputId": "bbcd93f0-ce11-4c19-cd83-833bd9a07342"
      },
      "execution_count": null,
      "outputs": [
        {
          "output_type": "execute_result",
          "data": {
            "text/plain": [
              "array([[117,  13],\n",
              "       [ 27,  35]])"
            ]
          },
          "metadata": {},
          "execution_count": 35
        }
      ]
    },
    {
      "cell_type": "code",
      "source": [
        "true_positive = conf_mat[0][0]\n",
        "false_positive = conf_mat[0][1]\n",
        "false_negative = conf_mat[1][0]\n",
        "true_negative = conf_mat[1][1]"
      ],
      "metadata": {
        "id": "DNsIZzZzyAyf"
      },
      "execution_count": null,
      "outputs": []
    },
    {
      "cell_type": "code",
      "source": [
        "Accuracy = (true_positive + true_negative) / (true_positive +false_positive + false_negative + true_negative)\n",
        "Accuracy"
      ],
      "metadata": {
        "colab": {
          "base_uri": "https://localhost:8080/"
        },
        "id": "W71eTgINyCNS",
        "outputId": "3b8a3f84-1448-442a-bd5e-fd1dde2b84fb"
      },
      "execution_count": null,
      "outputs": [
        {
          "output_type": "execute_result",
          "data": {
            "text/plain": [
              "0.7916666666666666"
            ]
          },
          "metadata": {},
          "execution_count": 37
        }
      ]
    },
    {
      "cell_type": "code",
      "source": [
        "Precision = true_positive/(true_positive+false_positive)\n",
        "Precision"
      ],
      "metadata": {
        "colab": {
          "base_uri": "https://localhost:8080/"
        },
        "id": "lMlliHTOyGnc",
        "outputId": "9f1eb813-8bda-4f2f-e371-e4389b27977e"
      },
      "execution_count": null,
      "outputs": [
        {
          "output_type": "execute_result",
          "data": {
            "text/plain": [
              "0.9"
            ]
          },
          "metadata": {},
          "execution_count": 38
        }
      ]
    },
    {
      "cell_type": "code",
      "source": [
        "Recall = true_positive/(true_positive+false_negative)\n",
        "Recall"
      ],
      "metadata": {
        "colab": {
          "base_uri": "https://localhost:8080/"
        },
        "id": "Cu03wUjlyI8f",
        "outputId": "983e7ea7-a736-4bae-ffa7-fca9b55d1275"
      },
      "execution_count": null,
      "outputs": [
        {
          "output_type": "execute_result",
          "data": {
            "text/plain": [
              "0.8125"
            ]
          },
          "metadata": {},
          "execution_count": 39
        }
      ]
    },
    {
      "cell_type": "code",
      "source": [
        "F1_Score = 2*(Recall * Precision) / (Recall + Precision)\n",
        "F1_Score"
      ],
      "metadata": {
        "colab": {
          "base_uri": "https://localhost:8080/"
        },
        "id": "gIsnWuQfyK2y",
        "outputId": "fec5f67a-b2f3-4fc3-a9e5-7a267dde5819"
      },
      "execution_count": null,
      "outputs": [
        {
          "output_type": "execute_result",
          "data": {
            "text/plain": [
              "0.854014598540146"
            ]
          },
          "metadata": {},
          "execution_count": 40
        }
      ]
    },
    {
      "cell_type": "markdown",
      "source": [
        "Naive Bayes"
      ],
      "metadata": {
        "id": "cy8FKnvuyP5E"
      }
    },
    {
      "cell_type": "code",
      "source": [
        "\n",
        "#creating a function to calculate the prior probability\n",
        "def calculate_prior(df, Y):\n",
        "    \"\"\"\n",
        "    Calculate the prior probability of each outcome in the target variable.\n",
        "\n",
        "    Parameters:\n",
        "    - df: DataFrame containing the dataset.\n",
        "    - Y: Name of the target variable column.\n",
        "\n",
        "    Returns:\n",
        "    - prior: List containing the prior probabilities of each outcome.\n",
        "    \"\"\"\n",
        "    #sorted list of the outcomes 0 & 1\n",
        "    classes = sorted(list(df[Y].unique()))\n",
        "    #list to add the prob of outcomes in it\n",
        "    prior = []\n",
        "    for i in classes:\n",
        "      prior.append(len(df[df[Y]==i])/len(df)) # calculating P = number of specific outcome / total number then add it to prior list\n",
        "    return prior\n"
      ],
      "metadata": {
        "id": "sVHAq21MHmon"
      },
      "execution_count": null,
      "outputs": []
    },
    {
      "cell_type": "code",
      "source": [
        "\n",
        "def calculate_likelihood_gaussian(df, feat_name, feat_val, Y, label):\n",
        "    \"\"\"\n",
        "    Calculate the likelihood probability of a feature value given a specific label using Gaussian distribution.\n",
        "\n",
        "    Parameters:\n",
        "    - df: DataFrame containing the dataset.\n",
        "    - feat_name: Name of the feature.\n",
        "    - feat_val: Value of the feature for which to calculate the likelihood.\n",
        "    - Y: Name of the target variable column.\n",
        "    - label: Value of the target variable label(Outcome).\n",
        "\n",
        "    Returns:\n",
        "    - p_x_given_y: The likelihood probability of the feature value given the label.\n",
        "    \"\"\"\n",
        "    feat = list(df.columns)\n",
        "    # decreasing our sample space to be the chosen label only in order to make the probability conditional\n",
        "    df = df[df[Y]==label]\n",
        "    # calculating mean and standard deviation of the feature\n",
        "    mean, std = df[feat_name].mean(), df[feat_name].std()\n",
        "    # # Calculate the probability Density Function using the Gaussian distribution formula\n",
        "    p_x_given_y = (1/ (np.sqrt(2*np.pi)*std)) * np.exp(-((feat_val-mean)**2 / (2 * std**2)))\n",
        "    return p_x_given_y"
      ],
      "metadata": {
        "id": "RjK0wftd1D2L"
      },
      "execution_count": null,
      "outputs": []
    },
    {
      "cell_type": "code",
      "source": [
        "\n",
        "def naive_bayes_gaussian(df, X, Y):\n",
        "  \"\"\"\n",
        "  Naive Bayes classifier implementation using Gaussian distribution for continuous features.\n",
        "\n",
        "  Parameters:\n",
        "  - df: DataFrame containing the training dataset.\n",
        "  - X: Input features array for prediction.\n",
        "  - Y: Name of the target variable column.\n",
        "\n",
        "  Returns:\n",
        "  - Y_pred: Predicted labels based on the Naive Bayes classifier.\n",
        "  \"\"\"\n",
        "  # Extracting feature names from the DataFrame columns\n",
        "  features = list(df.columns)[:-1]\n",
        "\n",
        "  # calculate the prior probabilities\n",
        "  prior = calculate_prior(df, Y)\n",
        "\n",
        "  Y_pred = []\n",
        "  # loop over every data sample\n",
        "  for x in X:\n",
        "    # calculate the likelihood probabilities\n",
        "    labels = sorted(list(df[Y].unique()))\n",
        "    likelihood = [1]*len(labels)\n",
        "    for j in range(len(labels)): #iterating over 0 & 1\n",
        "      for i in range(len(features)): #calculating conditional prob of each feature\n",
        "        likelihood[j] *= calculate_likelihood_gaussian(df, features[i], x[i], Y, labels[j]) #using independency assumptions\n",
        "\n",
        "    # calculate posterior prob. (numerator only)\n",
        "    post_prob = [1]*len(labels)\n",
        "    for j in range(len(labels)):\n",
        "      post_prob[j] = likelihood[j] * prior[j]\n",
        "    # taking the larger between the two values of posterior probability\n",
        "    Y_pred.append(np.argmax(post_prob))\n",
        "\n",
        "  return np.array(Y_pred)\n",
        "\n"
      ],
      "metadata": {
        "id": "nNrRcUlQG_Ct"
      },
      "execution_count": null,
      "outputs": []
    },
    {
      "cell_type": "code",
      "source": [
        "train, test = train_test_split(data, test_size=.2, random_state = 41)\n",
        "\n",
        "# Using the 'naive_bayes_gaussian' function to predict the target variable ('Outcome') using the test data\n",
        "y_pred = naive_bayes_gaussian(train, X=X_test.values , Y=\"Outcome\")"
      ],
      "metadata": {
        "id": "2W-d_STrHCUt"
      },
      "execution_count": null,
      "outputs": []
    },
    {
      "cell_type": "code",
      "source": [
        "confusion_mat = confusion_matrix(y_test,y_pred)\n",
        "print(confusion_mat)\n",
        "\n",
        "# Displaying the predicted score for diabetes in female patients using the Naive Bayes model\n",
        "print(classification_report(y_test, y_pred))\n"
      ],
      "metadata": {
        "colab": {
          "base_uri": "https://localhost:8080/"
        },
        "id": "hCogeKddHHXj",
        "outputId": "ffd2d5ab-7a49-459e-ea0f-d1d114bc543e"
      },
      "execution_count": null,
      "outputs": [
        {
          "output_type": "stream",
          "name": "stdout",
          "text": [
            "[[113  17]\n",
            " [ 28  34]]\n",
            "              precision    recall  f1-score   support\n",
            "\n",
            "           0       0.80      0.87      0.83       130\n",
            "           1       0.67      0.55      0.60        62\n",
            "\n",
            "    accuracy                           0.77       192\n",
            "   macro avg       0.73      0.71      0.72       192\n",
            "weighted avg       0.76      0.77      0.76       192\n",
            "\n"
          ]
        }
      ]
    },
    {
      "cell_type": "code",
      "source": [
        "accuracy_score(y_test,y_pred)"
      ],
      "metadata": {
        "id": "Y65veqlYHu4I",
        "colab": {
          "base_uri": "https://localhost:8080/"
        },
        "outputId": "090a8472-8ca3-4930-bc79-efa114cf15d7"
      },
      "execution_count": null,
      "outputs": [
        {
          "output_type": "execute_result",
          "data": {
            "text/plain": [
              "0.765625"
            ]
          },
          "metadata": {},
          "execution_count": 46
        }
      ]
    },
    {
      "cell_type": "code",
      "source": [
        "import pickle\n",
        "\n",
        "model_and_scaler = {\n",
        "    'model':svc_clf,\n",
        "    'scaler':scaler\n",
        "}\n",
        "\n",
        "filename = 'diabetes_model.sav'\n",
        "pickle.dump(model_and_scaler, open(filename, 'wb'))\n",
        "loaded_model = pickle.load(open('diabetes_model.sav', 'rb'))['model']\n",
        "loaded_scaler = pickle.load(open('diabetes_model.sav', 'rb'))['scaler']\n",
        "\n",
        "\n",
        "input_data = (5,166,72,19,175,25.8,0.587,51)\n",
        "\n",
        "# changing the input_data to numpy array\n",
        "input_data_as_numpy_array = np.asarray(input_data)\n",
        "\n",
        "# reshape the array as we are predicting for one instance\n",
        "input_data_reshaped = input_data_as_numpy_array.reshape(1,-1)\n",
        "\n",
        "input_data_as_numpy_array = loaded_scaler.transform(input_data_reshaped)\n",
        "prediction = loaded_model.predict(input_data_reshaped)\n",
        "print(prediction)\n",
        "\n",
        "if (prediction[0] == 0):\n",
        "  print('The person is not diabetic')\n",
        "else:\n",
        "  print('The person is diabetic')"
      ],
      "metadata": {
        "id": "Fboi0bkx6xQ_",
        "colab": {
          "base_uri": "https://localhost:8080/"
        },
        "outputId": "39518a4e-0d78-4825-f54b-67acc5ed3e96"
      },
      "execution_count": null,
      "outputs": [
        {
          "output_type": "stream",
          "name": "stdout",
          "text": [
            "[1]\n",
            "The person is diabetic\n"
          ]
        }
      ]
    },
    {
      "cell_type": "code",
      "source": [
        "for column in X.columns:\n",
        "  print(column)"
      ],
      "metadata": {
        "colab": {
          "base_uri": "https://localhost:8080/"
        },
        "id": "wBIJSlsih8mt",
        "outputId": "fd19e323-d7d5-436b-cab6-9a0517804a4a"
      },
      "execution_count": null,
      "outputs": [
        {
          "output_type": "stream",
          "name": "stdout",
          "text": [
            "Pregnancies\n",
            "Glucose\n",
            "BloodPressure\n",
            "SkinThickness\n",
            "Insulin\n",
            "BMI\n",
            "DiabetesPedigreeFunction\n",
            "Age\n"
          ]
        }
      ]
    },
    {
      "cell_type": "code",
      "source": [
        "data.info()"
      ],
      "metadata": {
        "colab": {
          "base_uri": "https://localhost:8080/"
        },
        "id": "pvfygDsTwn3l",
        "outputId": "aeadad63-cad0-461a-ae4a-3366082930f1"
      },
      "execution_count": null,
      "outputs": [
        {
          "output_type": "stream",
          "name": "stdout",
          "text": [
            "<class 'pandas.core.frame.DataFrame'>\n",
            "RangeIndex: 768 entries, 0 to 767\n",
            "Data columns (total 9 columns):\n",
            " #   Column                    Non-Null Count  Dtype  \n",
            "---  ------                    --------------  -----  \n",
            " 0   Pregnancies               768 non-null    int64  \n",
            " 1   Glucose                   768 non-null    float64\n",
            " 2   BloodPressure             768 non-null    float64\n",
            " 3   SkinThickness             768 non-null    float64\n",
            " 4   Insulin                   768 non-null    float64\n",
            " 5   BMI                       768 non-null    float64\n",
            " 6   DiabetesPedigreeFunction  768 non-null    float64\n",
            " 7   Age                       768 non-null    int64  \n",
            " 8   Outcome                   768 non-null    int64  \n",
            "dtypes: float64(6), int64(3)\n",
            "memory usage: 54.1 KB\n"
          ]
        }
      ]
    },
    {
      "cell_type": "code",
      "source": [],
      "metadata": {
        "id": "C53wL_Ks2dZB"
      },
      "execution_count": null,
      "outputs": []
    }
  ]
}